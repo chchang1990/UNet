{
  "nbformat": 4,
  "nbformat_minor": 0,
  "metadata": {
    "colab": {
      "provenance": [],
      "machine_shape": "hm",
      "toc_visible": true
    },
    "kernelspec": {
      "name": "python3",
      "display_name": "Python 3"
    },
    "language_info": {
      "name": "python"
    },
    "widgets": {
      "application/vnd.jupyter.widget-state+json": {
        "609c2ec4cf9b43e081bd03bc4d44650b": {
          "model_module": "jupyter-leaflet",
          "model_name": "LeafletMapModel",
          "model_module_version": "^0.17",
          "state": {
            "_dom_classes": [],
            "_model_module": "jupyter-leaflet",
            "_model_module_version": "^0.17",
            "_model_name": "LeafletMapModel",
            "_view_count": null,
            "_view_module": "jupyter-leaflet",
            "_view_module_version": "^0.17",
            "_view_name": "LeafletMapView",
            "bottom": 30723,
            "bounce_at_zoom_limits": true,
            "box_zoom": true,
            "center": [
              12.774303696888841,
              104.16412353515626
            ],
            "close_popup_on_click": true,
            "controls": [
              "IPY_MODEL_764c903d63c94934826355e1fbf53f45",
              "IPY_MODEL_d169ca7d02ed489682cb069f5a6e5ca1",
              "IPY_MODEL_1b7e74bea5014cd78b5f1f3587c4e45f",
              "IPY_MODEL_2fd0207ffc2542edaa1680c01201f1db",
              "IPY_MODEL_8da89cb84fc04f8a925389f7d2fc946a",
              "IPY_MODEL_ca421f6d3bf64b938ecfdbb544885a8a",
              "IPY_MODEL_3ba896aba95a4682968f00f70b471721",
              "IPY_MODEL_067ea348616a42d690b6a45379459222",
              "IPY_MODEL_580d888c29e841b3b662e182befa7a73"
            ],
            "crs": {
              "name": "EPSG3857",
              "custom": false
            },
            "default_style": "IPY_MODEL_81ae5b5d9ac84aa08227172e60727b47",
            "double_click_zoom": true,
            "dragging": true,
            "dragging_style": "IPY_MODEL_54d541dd65934153879bb8cb61f65dd5",
            "east": 106.38610839843751,
            "fullscreen": false,
            "inertia": true,
            "inertia_deceleration": 3000,
            "inertia_max_speed": 1500,
            "interpolation": "bilinear",
            "keyboard": true,
            "keyboard_pan_offset": 80,
            "keyboard_zoom_offset": 1,
            "layers": [
              "IPY_MODEL_6969c8172a094554b49443a359713bae",
              "IPY_MODEL_b33a133806e44dc08222bf8648071d3a",
              "IPY_MODEL_8e7a4a6c2b7942eba4852388cd6948aa",
              "IPY_MODEL_ec5460bbe8c14257ba281918834fb283",
              "IPY_MODEL_e67a899a0fe64f218848d519fe0302b2",
              "IPY_MODEL_dd68117b46b44373adbf1c27b5f7b9a0",
              "IPY_MODEL_fbe58d07de8f4a3eb2f7e03949d43ada"
            ],
            "layout": "IPY_MODEL_d199dc40ad4146398a9e6b73125defe1",
            "left": 51326,
            "max_zoom": 24,
            "min_zoom": null,
            "modisdate": "2023-03-25",
            "north": 14.376155191012126,
            "options": [
              "bounce_at_zoom_limits",
              "box_zoom",
              "center",
              "close_popup_on_click",
              "double_click_zoom",
              "dragging",
              "fullscreen",
              "inertia",
              "inertia_deceleration",
              "inertia_max_speed",
              "interpolation",
              "keyboard",
              "keyboard_pan_offset",
              "keyboard_zoom_offset",
              "max_zoom",
              "min_zoom",
              "prefer_canvas",
              "scroll_wheel_zoom",
              "tap",
              "tap_tolerance",
              "touch_zoom",
              "world_copy_jump",
              "zoom",
              "zoom_animation_threshold",
              "zoom_delta",
              "zoom_snap"
            ],
            "panes": {},
            "prefer_canvas": false,
            "right": 52135,
            "scroll_wheel_zoom": true,
            "south": 11.162234574919237,
            "style": "IPY_MODEL_81ae5b5d9ac84aa08227172e60727b47",
            "tap": true,
            "tap_tolerance": 15,
            "top": 30123,
            "touch_zoom": true,
            "west": 101.942138671875,
            "window_url": "https://y5stttq1hpk-496ff2e9c6d22116-0-colab.googleusercontent.com/outputframe.html?vrz=colab-20230323-060210-RC02_518914852",
            "world_copy_jump": false,
            "zoom": 8,
            "zoom_animation_threshold": 4,
            "zoom_delta": 1,
            "zoom_snap": 1
          }
        },
        "764c903d63c94934826355e1fbf53f45": {
          "model_module": "jupyter-leaflet",
          "model_name": "LeafletWidgetControlModel",
          "model_module_version": "^0.17",
          "state": {
            "_model_module": "jupyter-leaflet",
            "_model_module_version": "^0.17",
            "_model_name": "LeafletWidgetControlModel",
            "_view_count": null,
            "_view_module": "jupyter-leaflet",
            "_view_module_version": "^0.17",
            "_view_name": "LeafletWidgetControlView",
            "max_height": null,
            "max_width": null,
            "min_height": null,
            "min_width": null,
            "options": [
              "position",
              "transparent_bg"
            ],
            "position": "topleft",
            "transparent_bg": false,
            "widget": "IPY_MODEL_03cfb9e3482f4339878ddd97ebbbdc96"
          }
        },
        "d169ca7d02ed489682cb069f5a6e5ca1": {
          "model_module": "jupyter-leaflet",
          "model_name": "LeafletZoomControlModel",
          "model_module_version": "^0.17",
          "state": {
            "_model_module": "jupyter-leaflet",
            "_model_module_version": "^0.17",
            "_model_name": "LeafletZoomControlModel",
            "_view_count": null,
            "_view_module": "jupyter-leaflet",
            "_view_module_version": "^0.17",
            "_view_name": "LeafletZoomControlView",
            "options": [
              "position",
              "zoom_in_text",
              "zoom_in_title",
              "zoom_out_text",
              "zoom_out_title"
            ],
            "position": "topleft",
            "zoom_in_text": "+",
            "zoom_in_title": "Zoom in",
            "zoom_out_text": "-",
            "zoom_out_title": "Zoom out"
          }
        },
        "1b7e74bea5014cd78b5f1f3587c4e45f": {
          "model_module": "jupyter-leaflet",
          "model_name": "LeafletScaleControlModel",
          "model_module_version": "^0.17",
          "state": {
            "_model_module": "jupyter-leaflet",
            "_model_module_version": "^0.17",
            "_model_name": "LeafletScaleControlModel",
            "_view_count": null,
            "_view_module": "jupyter-leaflet",
            "_view_module_version": "^0.17",
            "_view_name": "LeafletScaleControlView",
            "imperial": true,
            "max_width": 100,
            "metric": true,
            "options": [
              "imperial",
              "max_width",
              "metric",
              "position",
              "update_when_idle"
            ],
            "position": "bottomleft",
            "update_when_idle": false
          }
        },
        "2fd0207ffc2542edaa1680c01201f1db": {
          "model_module": "jupyter-leaflet",
          "model_name": "LeafletFullScreenControlModel",
          "model_module_version": "^0.17",
          "state": {
            "_model_module": "jupyter-leaflet",
            "_model_module_version": "^0.17",
            "_model_name": "LeafletFullScreenControlModel",
            "_view_count": null,
            "_view_module": "jupyter-leaflet",
            "_view_module_version": "^0.17",
            "_view_name": "LeafletFullScreenControlView",
            "options": [
              "position"
            ],
            "position": "topleft"
          }
        },
        "8da89cb84fc04f8a925389f7d2fc946a": {
          "model_module": "jupyter-leaflet",
          "model_name": "LeafletMeasureControlModel",
          "model_module_version": "^0.17",
          "state": {
            "_custom_units": {},
            "_model_module": "jupyter-leaflet",
            "_model_module_version": "^0.17",
            "_model_name": "LeafletMeasureControlModel",
            "_view_count": null,
            "_view_module": "jupyter-leaflet",
            "_view_module_version": "^0.17",
            "_view_name": "LeafletMeasureControlView",
            "active_color": "orange",
            "capture_z_index": 10000,
            "completed_color": "#C8F2BE",
            "options": [
              "active_color",
              "capture_z_index",
              "completed_color",
              "popup_options",
              "position",
              "primary_area_unit",
              "primary_length_unit",
              "secondary_area_unit",
              "secondary_length_unit"
            ],
            "popup_options": {
              "className": "leaflet-measure-resultpopup",
              "autoPanPadding": [
                10,
                10
              ]
            },
            "position": "bottomleft",
            "primary_area_unit": "acres",
            "primary_length_unit": "kilometers",
            "secondary_area_unit": null,
            "secondary_length_unit": null
          }
        },
        "ca421f6d3bf64b938ecfdbb544885a8a": {
          "model_module": "jupyter-leaflet",
          "model_name": "LeafletAttributionControlModel",
          "model_module_version": "^0.17",
          "state": {
            "_model_module": "jupyter-leaflet",
            "_model_module_version": "^0.17",
            "_model_name": "LeafletAttributionControlModel",
            "_view_count": null,
            "_view_module": "jupyter-leaflet",
            "_view_module_version": "^0.17",
            "_view_name": "LeafletAttributionControlView",
            "options": [
              "position",
              "prefix"
            ],
            "position": "bottomright",
            "prefix": "ipyleaflet"
          }
        },
        "3ba896aba95a4682968f00f70b471721": {
          "model_module": "jupyter-leaflet",
          "model_name": "LeafletDrawControlModel",
          "model_module_version": "^0.17",
          "state": {
            "_model_module": "jupyter-leaflet",
            "_model_module_version": "^0.17",
            "_model_name": "LeafletDrawControlModel",
            "_view_count": null,
            "_view_module": "jupyter-leaflet",
            "_view_module_version": "^0.17",
            "_view_name": "LeafletDrawControlView",
            "circle": {
              "shapeOptions": {
                "color": "#3388ff"
              }
            },
            "circlemarker": {},
            "data": [],
            "edit": true,
            "marker": {
              "shapeOptions": {
                "color": "#3388ff"
              }
            },
            "options": [
              "position"
            ],
            "polygon": {
              "shapeOptions": {}
            },
            "polyline": {
              "shapeOptions": {}
            },
            "position": "topleft",
            "rectangle": {
              "shapeOptions": {
                "color": "#3388ff"
              }
            },
            "remove": true
          }
        },
        "067ea348616a42d690b6a45379459222": {
          "model_module": "jupyter-leaflet",
          "model_name": "LeafletWidgetControlModel",
          "model_module_version": "^0.17",
          "state": {
            "_model_module": "jupyter-leaflet",
            "_model_module_version": "^0.17",
            "_model_name": "LeafletWidgetControlModel",
            "_view_count": null,
            "_view_module": "jupyter-leaflet",
            "_view_module_version": "^0.17",
            "_view_name": "LeafletWidgetControlView",
            "max_height": null,
            "max_width": null,
            "min_height": null,
            "min_width": null,
            "options": [
              "position",
              "transparent_bg"
            ],
            "position": "topright",
            "transparent_bg": false,
            "widget": "IPY_MODEL_de78ce1cef034a12ba7043f5c8d55bee"
          }
        },
        "580d888c29e841b3b662e182befa7a73": {
          "model_module": "jupyter-leaflet",
          "model_name": "LeafletLayersControlModel",
          "model_module_version": "^0.17",
          "state": {
            "_model_module": "jupyter-leaflet",
            "_model_module_version": "^0.17",
            "_model_name": "LeafletLayersControlModel",
            "_view_count": null,
            "_view_module": "jupyter-leaflet",
            "_view_module_version": "^0.17",
            "_view_name": "LeafletLayersControlView",
            "options": [
              "position"
            ],
            "position": "topright"
          }
        },
        "81ae5b5d9ac84aa08227172e60727b47": {
          "model_module": "jupyter-leaflet",
          "model_name": "LeafletMapStyleModel",
          "model_module_version": "^0.17",
          "state": {
            "_model_module": "jupyter-leaflet",
            "_model_module_version": "^0.17",
            "_model_name": "LeafletMapStyleModel",
            "_view_count": null,
            "_view_module": "@jupyter-widgets/base",
            "_view_module_version": "1.2.0",
            "_view_name": "StyleView",
            "cursor": "grab"
          }
        },
        "54d541dd65934153879bb8cb61f65dd5": {
          "model_module": "jupyter-leaflet",
          "model_name": "LeafletMapStyleModel",
          "model_module_version": "^0.17",
          "state": {
            "_model_module": "jupyter-leaflet",
            "_model_module_version": "^0.17",
            "_model_name": "LeafletMapStyleModel",
            "_view_count": null,
            "_view_module": "@jupyter-widgets/base",
            "_view_module_version": "1.2.0",
            "_view_name": "StyleView",
            "cursor": "move"
          }
        },
        "6969c8172a094554b49443a359713bae": {
          "model_module": "jupyter-leaflet",
          "model_name": "LeafletTileLayerModel",
          "model_module_version": "^0.17",
          "state": {
            "_model_module": "jupyter-leaflet",
            "_model_module_version": "^0.17",
            "_model_name": "LeafletTileLayerModel",
            "_view_count": null,
            "_view_module": "jupyter-leaflet",
            "_view_module_version": "^0.17",
            "_view_name": "LeafletTileLayerView",
            "attribution": "&copy; <a href=\"https://www.openstreetmap.org/copyright\">OpenStreetMap</a> contributors",
            "base": true,
            "bottom": true,
            "bounds": null,
            "detect_retina": false,
            "loading": false,
            "max_native_zoom": null,
            "max_zoom": 19,
            "min_native_zoom": null,
            "min_zoom": 1,
            "name": "OpenStreetMap.Mapnik",
            "no_wrap": false,
            "opacity": 1,
            "options": [
              "attribution",
              "bounds",
              "detect_retina",
              "max_native_zoom",
              "max_zoom",
              "min_native_zoom",
              "min_zoom",
              "no_wrap",
              "tile_size",
              "tms",
              "zoom_offset"
            ],
            "pane": "",
            "popup": null,
            "popup_max_height": null,
            "popup_max_width": 300,
            "popup_min_width": 50,
            "show_loading": false,
            "subitems": [],
            "tile_size": 256,
            "tms": false,
            "url": "https://tile.openstreetmap.org/{z}/{x}/{y}.png",
            "visible": true,
            "zoom_offset": 0
          }
        },
        "b33a133806e44dc08222bf8648071d3a": {
          "model_module": "jupyter-leaflet",
          "model_name": "LeafletTileLayerModel",
          "model_module_version": "^0.17",
          "state": {
            "_model_module": "jupyter-leaflet",
            "_model_module_version": "^0.17",
            "_model_name": "LeafletTileLayerModel",
            "_view_count": null,
            "_view_module": "jupyter-leaflet",
            "_view_module_version": "^0.17",
            "_view_name": "LeafletTileLayerView",
            "attribution": "Google",
            "base": false,
            "bottom": true,
            "bounds": null,
            "detect_retina": false,
            "loading": false,
            "max_native_zoom": null,
            "max_zoom": 22,
            "min_native_zoom": null,
            "min_zoom": 0,
            "name": "Google Maps",
            "no_wrap": false,
            "opacity": 1,
            "options": [
              "attribution",
              "bounds",
              "detect_retina",
              "max_native_zoom",
              "max_zoom",
              "min_native_zoom",
              "min_zoom",
              "no_wrap",
              "tile_size",
              "tms",
              "zoom_offset"
            ],
            "pane": "",
            "popup": null,
            "popup_max_height": null,
            "popup_max_width": 300,
            "popup_min_width": 50,
            "show_loading": false,
            "subitems": [],
            "tile_size": 256,
            "tms": false,
            "url": "https://mt1.google.com/vt/lyrs=m&x={x}&y={y}&z={z}",
            "visible": true,
            "zoom_offset": 0
          }
        },
        "8e7a4a6c2b7942eba4852388cd6948aa": {
          "model_module": "jupyter-leaflet",
          "model_name": "LeafletTileLayerModel",
          "model_module_version": "^0.17",
          "state": {
            "_model_module": "jupyter-leaflet",
            "_model_module_version": "^0.17",
            "_model_name": "LeafletTileLayerModel",
            "_view_count": null,
            "_view_module": "jupyter-leaflet",
            "_view_module_version": "^0.17",
            "_view_name": "LeafletTileLayerView",
            "attribution": "Google Earth Engine",
            "base": false,
            "bottom": true,
            "bounds": null,
            "detect_retina": false,
            "loading": false,
            "max_native_zoom": null,
            "max_zoom": 24,
            "min_native_zoom": null,
            "min_zoom": 0,
            "name": "Mean_S1_SAR",
            "no_wrap": false,
            "opacity": 1,
            "options": [
              "attribution",
              "bounds",
              "detect_retina",
              "max_native_zoom",
              "max_zoom",
              "min_native_zoom",
              "min_zoom",
              "no_wrap",
              "tile_size",
              "tms",
              "zoom_offset"
            ],
            "pane": "",
            "popup": null,
            "popup_max_height": null,
            "popup_max_width": 300,
            "popup_min_width": 50,
            "show_loading": false,
            "subitems": [],
            "tile_size": 256,
            "tms": false,
            "url": "https://earthengine.googleapis.com/v1alpha/projects/earthengine-legacy/maps/a63b96c53c18cda788c08d9044fd6696-da46b181222b640bdb2f13c456b7a091/tiles/{z}/{x}/{y}",
            "visible": true,
            "zoom_offset": 0
          }
        },
        "ec5460bbe8c14257ba281918834fb283": {
          "model_module": "jupyter-leaflet",
          "model_name": "LeafletTileLayerModel",
          "model_module_version": "^0.17",
          "state": {
            "_model_module": "jupyter-leaflet",
            "_model_module_version": "^0.17",
            "_model_name": "LeafletTileLayerModel",
            "_view_count": null,
            "_view_module": "jupyter-leaflet",
            "_view_module_version": "^0.17",
            "_view_name": "LeafletTileLayerView",
            "attribution": "Google Earth Engine",
            "base": false,
            "bottom": true,
            "bounds": null,
            "detect_retina": false,
            "loading": false,
            "max_native_zoom": null,
            "max_zoom": 24,
            "min_native_zoom": null,
            "min_zoom": 0,
            "name": "DEM_slope",
            "no_wrap": false,
            "opacity": 1,
            "options": [
              "attribution",
              "bounds",
              "detect_retina",
              "max_native_zoom",
              "max_zoom",
              "min_native_zoom",
              "min_zoom",
              "no_wrap",
              "tile_size",
              "tms",
              "zoom_offset"
            ],
            "pane": "",
            "popup": null,
            "popup_max_height": null,
            "popup_max_width": 300,
            "popup_min_width": 50,
            "show_loading": false,
            "subitems": [],
            "tile_size": 256,
            "tms": false,
            "url": "https://earthengine.googleapis.com/v1alpha/projects/earthengine-legacy/maps/bcd5746997049677c9a52e631df78a23-7b894686cfdd648a786ede83166f2e1a/tiles/{z}/{x}/{y}",
            "visible": true,
            "zoom_offset": 0
          }
        },
        "e67a899a0fe64f218848d519fe0302b2": {
          "model_module": "jupyter-leaflet",
          "model_name": "LeafletTileLayerModel",
          "model_module_version": "^0.17",
          "state": {
            "_model_module": "jupyter-leaflet",
            "_model_module_version": "^0.17",
            "_model_name": "LeafletTileLayerModel",
            "_view_count": null,
            "_view_module": "jupyter-leaflet",
            "_view_module_version": "^0.17",
            "_view_name": "LeafletTileLayerView",
            "attribution": "Google Earth Engine",
            "base": false,
            "bottom": true,
            "bounds": null,
            "detect_retina": false,
            "loading": false,
            "max_native_zoom": null,
            "max_zoom": 24,
            "min_native_zoom": null,
            "min_zoom": 0,
            "name": "HAND",
            "no_wrap": false,
            "opacity": 1,
            "options": [
              "attribution",
              "bounds",
              "detect_retina",
              "max_native_zoom",
              "max_zoom",
              "min_native_zoom",
              "min_zoom",
              "no_wrap",
              "tile_size",
              "tms",
              "zoom_offset"
            ],
            "pane": "",
            "popup": null,
            "popup_max_height": null,
            "popup_max_width": 300,
            "popup_min_width": 50,
            "show_loading": false,
            "subitems": [],
            "tile_size": 256,
            "tms": false,
            "url": "https://earthengine.googleapis.com/v1alpha/projects/earthengine-legacy/maps/bc8f7eaad0bf6e6d602510823d7113ce-07f647a6d0c80e1fa96307751012c2e3/tiles/{z}/{x}/{y}",
            "visible": true,
            "zoom_offset": 0
          }
        },
        "dd68117b46b44373adbf1c27b5f7b9a0": {
          "model_module": "jupyter-leaflet",
          "model_name": "LeafletTileLayerModel",
          "model_module_version": "^0.17",
          "state": {
            "_model_module": "jupyter-leaflet",
            "_model_module_version": "^0.17",
            "_model_name": "LeafletTileLayerModel",
            "_view_count": null,
            "_view_module": "jupyter-leaflet",
            "_view_module_version": "^0.17",
            "_view_name": "LeafletTileLayerView",
            "attribution": "Google Earth Engine",
            "base": false,
            "bottom": true,
            "bounds": null,
            "detect_retina": false,
            "loading": false,
            "max_native_zoom": null,
            "max_zoom": 24,
            "min_native_zoom": null,
            "min_zoom": 0,
            "name": "JRC Perm. Water",
            "no_wrap": false,
            "opacity": 1,
            "options": [
              "attribution",
              "bounds",
              "detect_retina",
              "max_native_zoom",
              "max_zoom",
              "min_native_zoom",
              "min_zoom",
              "no_wrap",
              "tile_size",
              "tms",
              "zoom_offset"
            ],
            "pane": "",
            "popup": null,
            "popup_max_height": null,
            "popup_max_width": 300,
            "popup_min_width": 50,
            "show_loading": false,
            "subitems": [],
            "tile_size": 256,
            "tms": false,
            "url": "https://earthengine.googleapis.com/v1alpha/projects/earthengine-legacy/maps/ffa1d443830f5e7b4552121d6e8193b8-a6583f31493b66d42faacd3918459793/tiles/{z}/{x}/{y}",
            "visible": true,
            "zoom_offset": 0
          }
        },
        "fbe58d07de8f4a3eb2f7e03949d43ada": {
          "model_module": "jupyter-leaflet",
          "model_name": "LeafletTileLayerModel",
          "model_module_version": "^0.17",
          "state": {
            "_model_module": "jupyter-leaflet",
            "_model_module_version": "^0.17",
            "_model_name": "LeafletTileLayerModel",
            "_view_count": null,
            "_view_module": "jupyter-leaflet",
            "_view_module_version": "^0.17",
            "_view_name": "LeafletTileLayerView",
            "attribution": "Google Earth Engine",
            "base": false,
            "bottom": true,
            "bounds": null,
            "detect_retina": false,
            "loading": false,
            "max_native_zoom": null,
            "max_zoom": 24,
            "min_native_zoom": null,
            "min_zoom": 0,
            "name": "AOI_bbox",
            "no_wrap": false,
            "opacity": 1,
            "options": [
              "attribution",
              "bounds",
              "detect_retina",
              "max_native_zoom",
              "max_zoom",
              "min_native_zoom",
              "min_zoom",
              "no_wrap",
              "tile_size",
              "tms",
              "zoom_offset"
            ],
            "pane": "",
            "popup": null,
            "popup_max_height": null,
            "popup_max_width": 300,
            "popup_min_width": 50,
            "show_loading": false,
            "subitems": [],
            "tile_size": 256,
            "tms": false,
            "url": "https://earthengine.googleapis.com/v1alpha/projects/earthengine-legacy/maps/c70fe6db390a030b462702517aa5508f-638896233a6964ef6a5c32b431c473ff/tiles/{z}/{x}/{y}",
            "visible": true,
            "zoom_offset": 0
          }
        },
        "d199dc40ad4146398a9e6b73125defe1": {
          "model_module": "@jupyter-widgets/base",
          "model_name": "LayoutModel",
          "model_module_version": "1.2.0",
          "state": {
            "_model_module": "@jupyter-widgets/base",
            "_model_module_version": "1.2.0",
            "_model_name": "LayoutModel",
            "_view_count": null,
            "_view_module": "@jupyter-widgets/base",
            "_view_module_version": "1.2.0",
            "_view_name": "LayoutView",
            "align_content": null,
            "align_items": null,
            "align_self": null,
            "border": null,
            "bottom": null,
            "display": null,
            "flex": null,
            "flex_flow": null,
            "grid_area": null,
            "grid_auto_columns": null,
            "grid_auto_flow": null,
            "grid_auto_rows": null,
            "grid_column": null,
            "grid_gap": null,
            "grid_row": null,
            "grid_template_areas": null,
            "grid_template_columns": null,
            "grid_template_rows": null,
            "height": "600px",
            "justify_content": null,
            "justify_items": null,
            "left": null,
            "margin": null,
            "max_height": null,
            "max_width": null,
            "min_height": null,
            "min_width": null,
            "object_fit": null,
            "object_position": null,
            "order": null,
            "overflow": null,
            "overflow_x": null,
            "overflow_y": null,
            "padding": null,
            "right": null,
            "top": null,
            "visibility": null,
            "width": null
          }
        },
        "580b781e0264425789fbdd50445c506f": {
          "model_module": "jupyter-leaflet",
          "model_name": "LeafletMapStyleModel",
          "model_module_version": "^0.17",
          "state": {
            "_model_module": "jupyter-leaflet",
            "_model_module_version": "^0.17",
            "_model_name": "LeafletMapStyleModel",
            "_view_count": null,
            "_view_module": "@jupyter-widgets/base",
            "_view_module_version": "1.2.0",
            "_view_name": "StyleView",
            "cursor": "grab"
          }
        },
        "03cfb9e3482f4339878ddd97ebbbdc96": {
          "model_module": "@jupyter-widgets/controls",
          "model_name": "HBoxModel",
          "model_module_version": "1.5.0",
          "state": {
            "_dom_classes": [],
            "_model_module": "@jupyter-widgets/controls",
            "_model_module_version": "1.5.0",
            "_model_name": "HBoxModel",
            "_view_count": null,
            "_view_module": "@jupyter-widgets/controls",
            "_view_module_version": "1.5.0",
            "_view_name": "HBoxView",
            "box_style": "",
            "children": [
              "IPY_MODEL_eaaccdedc22444a7a2e22a714387aa80"
            ],
            "layout": "IPY_MODEL_ee82aab6bc144e969c32ab9391bb8fd7"
          }
        },
        "de78ce1cef034a12ba7043f5c8d55bee": {
          "model_module": "@jupyter-widgets/controls",
          "model_name": "VBoxModel",
          "model_module_version": "1.5.0",
          "state": {
            "_dom_classes": [],
            "_model_module": "@jupyter-widgets/controls",
            "_model_module_version": "1.5.0",
            "_model_name": "VBoxModel",
            "_view_count": null,
            "_view_module": "@jupyter-widgets/controls",
            "_view_module_version": "1.5.0",
            "_view_name": "VBoxView",
            "box_style": "",
            "children": [
              "IPY_MODEL_87cd888eba154001b734b5a9c6338aea"
            ],
            "layout": "IPY_MODEL_8cdc2204279e48c7bee34bd893e08163"
          }
        },
        "eaaccdedc22444a7a2e22a714387aa80": {
          "model_module": "@jupyter-widgets/controls",
          "model_name": "ToggleButtonModel",
          "model_module_version": "1.5.0",
          "state": {
            "_dom_classes": [],
            "_model_module": "@jupyter-widgets/controls",
            "_model_module_version": "1.5.0",
            "_model_name": "ToggleButtonModel",
            "_view_count": null,
            "_view_module": "@jupyter-widgets/controls",
            "_view_module_version": "1.5.0",
            "_view_name": "ToggleButtonView",
            "button_style": "",
            "description": "",
            "description_tooltip": null,
            "disabled": false,
            "icon": "globe",
            "layout": "IPY_MODEL_5829a0df38194d14b22773ba1a6142ac",
            "style": "IPY_MODEL_afb38e2b28814560b17a004b260e3ecc",
            "tooltip": "Search location/data",
            "value": false
          }
        },
        "ee82aab6bc144e969c32ab9391bb8fd7": {
          "model_module": "@jupyter-widgets/base",
          "model_name": "LayoutModel",
          "model_module_version": "1.2.0",
          "state": {
            "_model_module": "@jupyter-widgets/base",
            "_model_module_version": "1.2.0",
            "_model_name": "LayoutModel",
            "_view_count": null,
            "_view_module": "@jupyter-widgets/base",
            "_view_module_version": "1.2.0",
            "_view_name": "LayoutView",
            "align_content": null,
            "align_items": null,
            "align_self": null,
            "border": null,
            "bottom": null,
            "display": null,
            "flex": null,
            "flex_flow": null,
            "grid_area": null,
            "grid_auto_columns": null,
            "grid_auto_flow": null,
            "grid_auto_rows": null,
            "grid_column": null,
            "grid_gap": null,
            "grid_row": null,
            "grid_template_areas": null,
            "grid_template_columns": null,
            "grid_template_rows": null,
            "height": null,
            "justify_content": null,
            "justify_items": null,
            "left": null,
            "margin": null,
            "max_height": null,
            "max_width": null,
            "min_height": null,
            "min_width": null,
            "object_fit": null,
            "object_position": null,
            "order": null,
            "overflow": null,
            "overflow_x": null,
            "overflow_y": null,
            "padding": null,
            "right": null,
            "top": null,
            "visibility": null,
            "width": null
          }
        },
        "87cd888eba154001b734b5a9c6338aea": {
          "model_module": "@jupyter-widgets/controls",
          "model_name": "ToggleButtonModel",
          "model_module_version": "1.5.0",
          "state": {
            "_dom_classes": [],
            "_model_module": "@jupyter-widgets/controls",
            "_model_module_version": "1.5.0",
            "_model_name": "ToggleButtonModel",
            "_view_count": null,
            "_view_module": "@jupyter-widgets/controls",
            "_view_module_version": "1.5.0",
            "_view_name": "ToggleButtonView",
            "button_style": "",
            "description": "",
            "description_tooltip": null,
            "disabled": false,
            "icon": "wrench",
            "layout": "IPY_MODEL_8d54f57a155a4ab3ab93f2f72439e80d",
            "style": "IPY_MODEL_922f7c9de4f949e386f5e6c5a2e97442",
            "tooltip": "Toolbar",
            "value": false
          }
        },
        "8cdc2204279e48c7bee34bd893e08163": {
          "model_module": "@jupyter-widgets/base",
          "model_name": "LayoutModel",
          "model_module_version": "1.2.0",
          "state": {
            "_model_module": "@jupyter-widgets/base",
            "_model_module_version": "1.2.0",
            "_model_name": "LayoutModel",
            "_view_count": null,
            "_view_module": "@jupyter-widgets/base",
            "_view_module_version": "1.2.0",
            "_view_name": "LayoutView",
            "align_content": null,
            "align_items": null,
            "align_self": null,
            "border": null,
            "bottom": null,
            "display": null,
            "flex": null,
            "flex_flow": null,
            "grid_area": null,
            "grid_auto_columns": null,
            "grid_auto_flow": null,
            "grid_auto_rows": null,
            "grid_column": null,
            "grid_gap": null,
            "grid_row": null,
            "grid_template_areas": null,
            "grid_template_columns": null,
            "grid_template_rows": null,
            "height": null,
            "justify_content": null,
            "justify_items": null,
            "left": null,
            "margin": null,
            "max_height": null,
            "max_width": null,
            "min_height": null,
            "min_width": null,
            "object_fit": null,
            "object_position": null,
            "order": null,
            "overflow": null,
            "overflow_x": null,
            "overflow_y": null,
            "padding": null,
            "right": null,
            "top": null,
            "visibility": null,
            "width": null
          }
        },
        "5829a0df38194d14b22773ba1a6142ac": {
          "model_module": "@jupyter-widgets/base",
          "model_name": "LayoutModel",
          "model_module_version": "1.2.0",
          "state": {
            "_model_module": "@jupyter-widgets/base",
            "_model_module_version": "1.2.0",
            "_model_name": "LayoutModel",
            "_view_count": null,
            "_view_module": "@jupyter-widgets/base",
            "_view_module_version": "1.2.0",
            "_view_name": "LayoutView",
            "align_content": null,
            "align_items": null,
            "align_self": null,
            "border": null,
            "bottom": null,
            "display": null,
            "flex": null,
            "flex_flow": null,
            "grid_area": null,
            "grid_auto_columns": null,
            "grid_auto_flow": null,
            "grid_auto_rows": null,
            "grid_column": null,
            "grid_gap": null,
            "grid_row": null,
            "grid_template_areas": null,
            "grid_template_columns": null,
            "grid_template_rows": null,
            "height": "28px",
            "justify_content": null,
            "justify_items": null,
            "left": null,
            "margin": null,
            "max_height": null,
            "max_width": null,
            "min_height": null,
            "min_width": null,
            "object_fit": null,
            "object_position": null,
            "order": null,
            "overflow": null,
            "overflow_x": null,
            "overflow_y": null,
            "padding": "0px 0px 0px 4px",
            "right": null,
            "top": null,
            "visibility": null,
            "width": "28px"
          }
        },
        "afb38e2b28814560b17a004b260e3ecc": {
          "model_module": "@jupyter-widgets/controls",
          "model_name": "DescriptionStyleModel",
          "model_module_version": "1.5.0",
          "state": {
            "_model_module": "@jupyter-widgets/controls",
            "_model_module_version": "1.5.0",
            "_model_name": "DescriptionStyleModel",
            "_view_count": null,
            "_view_module": "@jupyter-widgets/base",
            "_view_module_version": "1.2.0",
            "_view_name": "StyleView",
            "description_width": ""
          }
        },
        "8d54f57a155a4ab3ab93f2f72439e80d": {
          "model_module": "@jupyter-widgets/base",
          "model_name": "LayoutModel",
          "model_module_version": "1.2.0",
          "state": {
            "_model_module": "@jupyter-widgets/base",
            "_model_module_version": "1.2.0",
            "_model_name": "LayoutModel",
            "_view_count": null,
            "_view_module": "@jupyter-widgets/base",
            "_view_module_version": "1.2.0",
            "_view_name": "LayoutView",
            "align_content": null,
            "align_items": null,
            "align_self": null,
            "border": null,
            "bottom": null,
            "display": null,
            "flex": null,
            "flex_flow": null,
            "grid_area": null,
            "grid_auto_columns": null,
            "grid_auto_flow": null,
            "grid_auto_rows": null,
            "grid_column": null,
            "grid_gap": null,
            "grid_row": null,
            "grid_template_areas": null,
            "grid_template_columns": null,
            "grid_template_rows": null,
            "height": "28px",
            "justify_content": null,
            "justify_items": null,
            "left": null,
            "margin": null,
            "max_height": null,
            "max_width": null,
            "min_height": null,
            "min_width": null,
            "object_fit": null,
            "object_position": null,
            "order": null,
            "overflow": null,
            "overflow_x": null,
            "overflow_y": null,
            "padding": "0px 0px 0px 4px",
            "right": null,
            "top": null,
            "visibility": null,
            "width": "28px"
          }
        },
        "922f7c9de4f949e386f5e6c5a2e97442": {
          "model_module": "@jupyter-widgets/controls",
          "model_name": "DescriptionStyleModel",
          "model_module_version": "1.5.0",
          "state": {
            "_model_module": "@jupyter-widgets/controls",
            "_model_module_version": "1.5.0",
            "_model_name": "DescriptionStyleModel",
            "_view_count": null,
            "_view_module": "@jupyter-widgets/base",
            "_view_module_version": "1.2.0",
            "_view_name": "StyleView",
            "description_width": ""
          }
        }
      }
    },
    "accelerator": "GPU",
    "gpuClass": "premium"
  },
  "cells": [
    {
      "cell_type": "markdown",
      "source": [
        "# A simple water segmentation using UNet\n",
        "\n",
        "This notebook demonstrates how to use UNet for a simple water segmentation"
      ],
      "metadata": {
        "id": "I-pGwxbrEJfN"
      }
    },
    {
      "cell_type": "markdown",
      "source": [
        "# Install packages"
      ],
      "metadata": {
        "id": "BwaOMg4QEUDD"
      }
    },
    {
      "cell_type": "code",
      "execution_count": 1,
      "metadata": {
        "colab": {
          "base_uri": "https://localhost:8080/"
        },
        "id": "456S7HbUzu26",
        "outputId": "b78f64ac-7fc0-4804-cf64-2d771df0fa76"
      },
      "outputs": [
        {
          "output_type": "stream",
          "name": "stdout",
          "text": [
            "Looking in indexes: https://pypi.org/simple, https://us-python.pkg.dev/colab-wheels/public/simple/\n",
            "Requirement already satisfied: numpy in /usr/local/lib/python3.9/dist-packages (1.22.4)\n",
            "Requirement already satisfied: pandas in /usr/local/lib/python3.9/dist-packages (1.4.4)\n",
            "Requirement already satisfied: xarray in /usr/local/lib/python3.9/dist-packages (2022.12.0)\n",
            "Collecting rioxarray\n",
            "  Downloading rioxarray-0.14.0-py3-none-any.whl (53 kB)\n",
            "\u001b[2K     \u001b[90m━━━━━━━━━━━━━━━━━━━━━━━━━━━━━━━━━━━━━━━━\u001b[0m \u001b[32m53.4/53.4 KB\u001b[0m \u001b[31m3.2 MB/s\u001b[0m eta \u001b[36m0:00:00\u001b[0m\n",
            "\u001b[?25hCollecting rasterio\n",
            "  Downloading rasterio-1.3.6-cp39-cp39-manylinux_2_17_x86_64.manylinux2014_x86_64.whl (20.1 MB)\n",
            "\u001b[2K     \u001b[90m━━━━━━━━━━━━━━━━━━━━━━━━━━━━━━━━━━━━━━━━\u001b[0m \u001b[32m20.1/20.1 MB\u001b[0m \u001b[31m65.5 MB/s\u001b[0m eta \u001b[36m0:00:00\u001b[0m\n",
            "\u001b[?25hCollecting hydrafloods\n",
            "  Downloading hydrafloods-2021.10.11-py3-none-any.whl (85 kB)\n",
            "\u001b[2K     \u001b[90m━━━━━━━━━━━━━━━━━━━━━━━━━━━━━━━━━━━━━━━━\u001b[0m \u001b[32m85.6/85.6 KB\u001b[0m \u001b[31m12.5 MB/s\u001b[0m eta \u001b[36m0:00:00\u001b[0m\n",
            "\u001b[?25hRequirement already satisfied: tensorflow in /usr/local/lib/python3.9/dist-packages (2.11.0)\n",
            "Requirement already satisfied: torch in /usr/local/lib/python3.9/dist-packages (1.13.1+cu116)\n",
            "Requirement already satisfied: scikit-learn in /usr/local/lib/python3.9/dist-packages (1.2.2)\n",
            "Requirement already satisfied: scipy in /usr/local/lib/python3.9/dist-packages (1.10.1)\n",
            "Collecting geemap\n",
            "  Downloading geemap-0.20.3-py2.py3-none-any.whl (2.1 MB)\n",
            "\u001b[2K     \u001b[90m━━━━━━━━━━━━━━━━━━━━━━━━━━━━━━━━━━━━━━━━\u001b[0m \u001b[32m2.1/2.1 MB\u001b[0m \u001b[31m79.3 MB/s\u001b[0m eta \u001b[36m0:00:00\u001b[0m\n",
            "\u001b[?25hRequirement already satisfied: earthengine-api in /usr/local/lib/python3.9/dist-packages (0.1.346)\n",
            "Collecting restee\n",
            "  Downloading restee-0.0.3-py3-none-any.whl (12 kB)\n",
            "Collecting patchify\n",
            "  Downloading patchify-0.2.3-py3-none-any.whl (6.6 kB)\n",
            "Collecting segmentation_models\n",
            "  Downloading segmentation_models-1.0.1-py3-none-any.whl (33 kB)\n",
            "Requirement already satisfied: python-dateutil>=2.8.1 in /usr/local/lib/python3.9/dist-packages (from pandas) (2.8.2)\n",
            "Requirement already satisfied: pytz>=2020.1 in /usr/local/lib/python3.9/dist-packages (from pandas) (2022.7.1)\n",
            "Requirement already satisfied: packaging>=21.3 in /usr/local/lib/python3.9/dist-packages (from xarray) (23.0)\n",
            "Collecting pyproj>=2.2\n",
            "  Downloading pyproj-3.4.1-cp39-cp39-manylinux_2_17_x86_64.manylinux2014_x86_64.whl (7.7 MB)\n",
            "\u001b[2K     \u001b[90m━━━━━━━━━━━━━━━━━━━━━━━━━━━━━━━━━━━━━━━━\u001b[0m \u001b[32m7.7/7.7 MB\u001b[0m \u001b[31m104.8 MB/s\u001b[0m eta \u001b[36m0:00:00\u001b[0m\n",
            "\u001b[?25hRequirement already satisfied: setuptools in /usr/local/lib/python3.9/dist-packages (from rasterio) (67.6.0)\n",
            "Requirement already satisfied: attrs in /usr/local/lib/python3.9/dist-packages (from rasterio) (22.2.0)\n",
            "Collecting click-plugins\n",
            "  Downloading click_plugins-1.1.1-py2.py3-none-any.whl (7.5 kB)\n",
            "Collecting cligj>=0.5\n",
            "  Downloading cligj-0.7.2-py3-none-any.whl (7.1 kB)\n",
            "Requirement already satisfied: certifi in /usr/local/lib/python3.9/dist-packages (from rasterio) (2022.12.7)\n",
            "Collecting snuggs>=1.4.1\n",
            "  Downloading snuggs-1.4.7-py3-none-any.whl (5.4 kB)\n",
            "Requirement already satisfied: click>=4.0 in /usr/local/lib/python3.9/dist-packages (from rasterio) (8.1.3)\n",
            "Collecting affine\n",
            "  Downloading affine-2.4.0-py3-none-any.whl (15 kB)\n",
            "Collecting pipetools\n",
            "  Downloading pipetools-1.1.0.tar.gz (16 kB)\n",
            "  Preparing metadata (setup.py) ... \u001b[?25l\u001b[?25hdone\n",
            "Collecting simplecmr\n",
            "  Downloading simplecmr-0.0.1-py3-none-any.whl (6.9 kB)\n",
            "Collecting fire\n",
            "  Downloading fire-0.5.0.tar.gz (88 kB)\n",
            "\u001b[2K     \u001b[90m━━━━━━━━━━━━━━━━━━━━━━━━━━━━━━━━━━━━━━━━\u001b[0m \u001b[32m88.3/88.3 KB\u001b[0m \u001b[31m14.0 MB/s\u001b[0m eta \u001b[36m0:00:00\u001b[0m\n",
            "\u001b[?25h  Preparing metadata (setup.py) ... \u001b[?25l\u001b[?25hdone\n",
            "Collecting gcsfs\n",
            "  Downloading gcsfs-2023.3.0-py2.py3-none-any.whl (26 kB)\n",
            "Requirement already satisfied: google-pasta>=0.1.1 in /usr/local/lib/python3.9/dist-packages (from tensorflow) (0.2.0)\n",
            "Requirement already satisfied: opt-einsum>=2.3.2 in /usr/local/lib/python3.9/dist-packages (from tensorflow) (3.3.0)\n",
            "Requirement already satisfied: grpcio<2.0,>=1.24.3 in /usr/local/lib/python3.9/dist-packages (from tensorflow) (1.51.3)\n",
            "Requirement already satisfied: gast<=0.4.0,>=0.2.1 in /usr/local/lib/python3.9/dist-packages (from tensorflow) (0.4.0)\n",
            "Requirement already satisfied: tensorflow-estimator<2.12,>=2.11.0 in /usr/local/lib/python3.9/dist-packages (from tensorflow) (2.11.0)\n",
            "Requirement already satisfied: keras<2.12,>=2.11.0 in /usr/local/lib/python3.9/dist-packages (from tensorflow) (2.11.0)\n",
            "Requirement already satisfied: flatbuffers>=2.0 in /usr/local/lib/python3.9/dist-packages (from tensorflow) (23.3.3)\n",
            "Requirement already satisfied: absl-py>=1.0.0 in /usr/local/lib/python3.9/dist-packages (from tensorflow) (1.4.0)\n",
            "Requirement already satisfied: six>=1.12.0 in /usr/local/lib/python3.9/dist-packages (from tensorflow) (1.16.0)\n",
            "Requirement already satisfied: tensorboard<2.12,>=2.11 in /usr/local/lib/python3.9/dist-packages (from tensorflow) (2.11.2)\n",
            "Requirement already satisfied: wrapt>=1.11.0 in /usr/local/lib/python3.9/dist-packages (from tensorflow) (1.15.0)\n",
            "Requirement already satisfied: typing-extensions>=3.6.6 in /usr/local/lib/python3.9/dist-packages (from tensorflow) (4.5.0)\n",
            "Requirement already satisfied: termcolor>=1.1.0 in /usr/local/lib/python3.9/dist-packages (from tensorflow) (2.2.0)\n",
            "Requirement already satisfied: astunparse>=1.6.0 in /usr/local/lib/python3.9/dist-packages (from tensorflow) (1.6.3)\n",
            "Requirement already satisfied: libclang>=13.0.0 in /usr/local/lib/python3.9/dist-packages (from tensorflow) (15.0.6.1)\n",
            "Requirement already satisfied: protobuf<3.20,>=3.9.2 in /usr/local/lib/python3.9/dist-packages (from tensorflow) (3.19.6)\n",
            "Requirement already satisfied: tensorflow-io-gcs-filesystem>=0.23.1 in /usr/local/lib/python3.9/dist-packages (from tensorflow) (0.31.0)\n",
            "Requirement already satisfied: h5py>=2.9.0 in /usr/local/lib/python3.9/dist-packages (from tensorflow) (3.8.0)\n",
            "Requirement already satisfied: threadpoolctl>=2.0.0 in /usr/local/lib/python3.9/dist-packages (from scikit-learn) (3.1.0)\n",
            "Requirement already satisfied: joblib>=1.1.1 in /usr/local/lib/python3.9/dist-packages (from scikit-learn) (1.1.1)\n",
            "Collecting python-box\n",
            "  Downloading python_box-7.0.1-cp39-cp39-manylinux_2_5_x86_64.manylinux1_x86_64.manylinux_2_12_x86_64.manylinux2010_x86_64.whl (3.2 MB)\n",
            "\u001b[2K     \u001b[90m━━━━━━━━━━━━━━━━━━━━━━━━━━━━━━━━━━━━━━━━\u001b[0m \u001b[32m3.2/3.2 MB\u001b[0m \u001b[31m82.3 MB/s\u001b[0m eta \u001b[36m0:00:00\u001b[0m\n",
            "\u001b[?25hCollecting geocoder\n",
            "  Downloading geocoder-1.38.1-py2.py3-none-any.whl (98 kB)\n",
            "\u001b[2K     \u001b[90m━━━━━━━━━━━━━━━━━━━━━━━━━━━━━━━━━━━━━━━━\u001b[0m \u001b[32m98.6/98.6 KB\u001b[0m \u001b[31m14.6 MB/s\u001b[0m eta \u001b[36m0:00:00\u001b[0m\n",
            "\u001b[?25hCollecting pyshp>=2.1.3\n",
            "  Downloading pyshp-2.3.1-py2.py3-none-any.whl (46 kB)\n",
            "\u001b[2K     \u001b[90m━━━━━━━━━━━━━━━━━━━━━━━━━━━━━━━━━━━━━━━━\u001b[0m \u001b[32m46.5/46.5 KB\u001b[0m \u001b[31m6.7 MB/s\u001b[0m eta \u001b[36m0:00:00\u001b[0m\n",
            "\u001b[?25hCollecting ipyleaflet>=0.17.0\n",
            "  Downloading ipyleaflet-0.17.2-py3-none-any.whl (3.7 MB)\n",
            "\u001b[2K     \u001b[90m━━━━━━━━━━━━━━━━━━━━━━━━━━━━━━━━━━━━━━━━\u001b[0m \u001b[32m3.7/3.7 MB\u001b[0m \u001b[31m97.8 MB/s\u001b[0m eta \u001b[36m0:00:00\u001b[0m\n",
            "\u001b[?25hCollecting pycrs\n",
            "  Downloading PyCRS-1.0.2.tar.gz (36 kB)\n",
            "  Preparing metadata (setup.py) ... \u001b[?25l\u001b[?25hdone\n",
            "Collecting sankee>=0.1.0\n",
            "  Downloading sankee-0.2.3.tar.gz (30 kB)\n",
            "  Preparing metadata (setup.py) ... \u001b[?25l\u001b[?25hdone\n",
            "Collecting ffmpeg-python\n",
            "  Downloading ffmpeg_python-0.2.0-py3-none-any.whl (25 kB)\n",
            "Collecting scooby\n",
            "  Downloading scooby-0.7.1-py3-none-any.whl (16 kB)\n",
            "Requirement already satisfied: gdown in /usr/local/lib/python3.9/dist-packages (from geemap) (4.6.4)\n",
            "Requirement already satisfied: ipykernel in /usr/local/lib/python3.9/dist-packages (from geemap) (5.3.4)\n",
            "Requirement already satisfied: folium>=0.11.0 in /usr/local/lib/python3.9/dist-packages (from geemap) (0.14.0)\n",
            "Collecting pyperclip\n",
            "  Downloading pyperclip-1.8.2.tar.gz (20 kB)\n",
            "  Preparing metadata (setup.py) ... \u001b[?25l\u001b[?25hdone\n",
            "Collecting ee-extra>=0.0.10\n",
            "  Downloading ee_extra-0.0.15.tar.gz (224 kB)\n",
            "\u001b[2K     \u001b[90m━━━━━━━━━━━━━━━━━━━━━━━━━━━━━━━━━━━━━━\u001b[0m \u001b[32m224.7/224.7 KB\u001b[0m \u001b[31m28.3 MB/s\u001b[0m eta \u001b[36m0:00:00\u001b[0m\n",
            "\u001b[?25h  Preparing metadata (setup.py) ... \u001b[?25l\u001b[?25hdone\n",
            "Collecting bqplot\n",
            "  Downloading bqplot-0.12.36-py2.py3-none-any.whl (1.2 MB)\n",
            "\u001b[2K     \u001b[90m━━━━━━━━━━━━━━━━━━━━━━━━━━━━━━━━━━━━━━━━\u001b[0m \u001b[32m1.2/1.2 MB\u001b[0m \u001b[31m67.9 MB/s\u001b[0m eta \u001b[36m0:00:00\u001b[0m\n",
            "\u001b[?25hCollecting geeadd>=0.5.1\n",
            "  Downloading geeadd-0.5.6-py3-none-any.whl (30 kB)\n",
            "Collecting eerepr>=0.0.4\n",
            "  Downloading eerepr-0.0.4-py3-none-any.whl (9.7 kB)\n",
            "Collecting ipyfilechooser>=0.6.0\n",
            "  Downloading ipyfilechooser-0.6.0-py3-none-any.whl (11 kB)\n",
            "Collecting colour\n",
            "  Downloading colour-0.1.5-py2.py3-none-any.whl (23 kB)\n",
            "Collecting ipytree\n",
            "  Downloading ipytree-0.2.2-py2.py3-none-any.whl (1.3 MB)\n",
            "\u001b[2K     \u001b[90m━━━━━━━━━━━━━━━━━━━━━━━━━━━━━━━━━━━━━━━━\u001b[0m \u001b[32m1.3/1.3 MB\u001b[0m \u001b[31m38.5 MB/s\u001b[0m eta \u001b[36m0:00:00\u001b[0m\n",
            "\u001b[?25hCollecting ipyevents\n",
            "  Downloading ipyevents-2.0.1-py2.py3-none-any.whl (130 kB)\n",
            "\u001b[2K     \u001b[90m━━━━━━━━━━━━━━━━━━━━━━━━━━━━━━━━━━━━━━\u001b[0m \u001b[32m130.5/130.5 KB\u001b[0m \u001b[31m15.0 MB/s\u001b[0m eta \u001b[36m0:00:00\u001b[0m\n",
            "\u001b[?25hRequirement already satisfied: matplotlib in /usr/local/lib/python3.9/dist-packages (from geemap) (3.7.1)\n",
            "Requirement already satisfied: pillow in /usr/local/lib/python3.9/dist-packages (from geemap) (8.4.0)\n",
            "Requirement already satisfied: ipywidgets<8.0.0 in /usr/local/lib/python3.9/dist-packages (from geemap) (7.7.1)\n",
            "Collecting whiteboxgui>=0.6.0\n",
            "  Downloading whiteboxgui-2.2.0-py2.py3-none-any.whl (99 kB)\n",
            "\u001b[2K     \u001b[90m━━━━━━━━━━━━━━━━━━━━━━━━━━━━━━━━━━━━━━━━\u001b[0m \u001b[32m99.6/99.6 KB\u001b[0m \u001b[31m16.2 MB/s\u001b[0m eta \u001b[36m0:00:00\u001b[0m\n",
            "\u001b[?25hCollecting xyzservices\n",
            "  Downloading xyzservices-2023.2.0-py3-none-any.whl (55 kB)\n",
            "\u001b[2K     \u001b[90m━━━━━━━━━━━━━━━━━━━━━━━━━━━━━━━━━━━━━━━━\u001b[0m \u001b[32m55.4/55.4 KB\u001b[0m \u001b[31m8.7 MB/s\u001b[0m eta \u001b[36m0:00:00\u001b[0m\n",
            "\u001b[?25hCollecting geojson\n",
            "  Downloading geojson-3.0.1-py3-none-any.whl (15 kB)\n",
            "Requirement already satisfied: google-api-python-client>=1.12.1 in /usr/local/lib/python3.9/dist-packages (from earthengine-api) (2.70.0)\n",
            "Requirement already satisfied: google-cloud-storage in /usr/local/lib/python3.9/dist-packages (from earthengine-api) (2.7.0)\n",
            "Requirement already satisfied: httplib2<1dev,>=0.9.2 in /usr/local/lib/python3.9/dist-packages (from earthengine-api) (0.21.0)\n",
            "Requirement already satisfied: requests in /usr/local/lib/python3.9/dist-packages (from earthengine-api) (2.27.1)\n",
            "Requirement already satisfied: google-auth>=1.4.1 in /usr/local/lib/python3.9/dist-packages (from earthengine-api) (2.16.2)\n",
            "Requirement already satisfied: google-auth-httplib2>=0.0.3 in /usr/local/lib/python3.9/dist-packages (from earthengine-api) (0.1.0)\n",
            "Collecting backoff\n",
            "  Downloading backoff-2.2.1-py3-none-any.whl (15 kB)\n",
            "Collecting geopandas\n",
            "  Downloading geopandas-0.12.2-py3-none-any.whl (1.1 MB)\n",
            "\u001b[2K     \u001b[90m━━━━━━━━━━━━━━━━━━━━━━━━━━━━━━━━━━━━━━━━\u001b[0m \u001b[32m1.1/1.1 MB\u001b[0m \u001b[31m71.7 MB/s\u001b[0m eta \u001b[36m0:00:00\u001b[0m\n",
            "\u001b[?25hRequirement already satisfied: tqdm in /usr/local/lib/python3.9/dist-packages (from restee) (4.65.0)\n",
            "Collecting efficientnet==1.0.0\n",
            "  Downloading efficientnet-1.0.0-py3-none-any.whl (17 kB)\n",
            "Collecting image-classifiers==1.0.0\n",
            "  Downloading image_classifiers-1.0.0-py3-none-any.whl (19 kB)\n",
            "Collecting keras-applications<=1.0.8,>=1.0.7\n",
            "  Downloading Keras_Applications-1.0.8-py3-none-any.whl (50 kB)\n",
            "\u001b[2K     \u001b[90m━━━━━━━━━━━━━━━━━━━━━━━━━━━━━━━━━━━━━━━━\u001b[0m \u001b[32m50.7/50.7 KB\u001b[0m \u001b[31m7.8 MB/s\u001b[0m eta \u001b[36m0:00:00\u001b[0m\n",
            "\u001b[?25hRequirement already satisfied: scikit-image in /usr/local/lib/python3.9/dist-packages (from efficientnet==1.0.0->segmentation_models) (0.19.3)\n",
            "Requirement already satisfied: wheel<1.0,>=0.23.0 in /usr/local/lib/python3.9/dist-packages (from astunparse>=1.6.0->tensorflow) (0.40.0)\n",
            "Requirement already satisfied: branca>=0.6.0 in /usr/local/lib/python3.9/dist-packages (from folium>=0.11.0->geemap) (0.6.0)\n",
            "Requirement already satisfied: jinja2>=2.9 in /usr/local/lib/python3.9/dist-packages (from folium>=0.11.0->geemap) (3.1.2)\n",
            "Collecting logzero>=1.5.0\n",
            "  Downloading logzero-1.7.0-py2.py3-none-any.whl (16 kB)\n",
            "Requirement already satisfied: beautifulsoup4>=4.9.0 in /usr/local/lib/python3.9/dist-packages (from geeadd>=0.5.1->geemap) (4.11.2)\n",
            "Requirement already satisfied: uritemplate<5,>=3.0.1 in /usr/local/lib/python3.9/dist-packages (from google-api-python-client>=1.12.1->earthengine-api) (4.1.1)\n",
            "Requirement already satisfied: google-api-core!=2.0.*,!=2.1.*,!=2.2.*,!=2.3.0,<3.0.0dev,>=1.31.5 in /usr/local/lib/python3.9/dist-packages (from google-api-python-client>=1.12.1->earthengine-api) (2.11.0)\n",
            "Requirement already satisfied: pyasn1-modules>=0.2.1 in /usr/local/lib/python3.9/dist-packages (from google-auth>=1.4.1->earthengine-api) (0.2.8)\n",
            "Requirement already satisfied: cachetools<6.0,>=2.0.0 in /usr/local/lib/python3.9/dist-packages (from google-auth>=1.4.1->earthengine-api) (5.3.0)\n",
            "Requirement already satisfied: rsa<5,>=3.1.4 in /usr/local/lib/python3.9/dist-packages (from google-auth>=1.4.1->earthengine-api) (4.9)\n",
            "Requirement already satisfied: pyparsing!=3.0.0,!=3.0.1,!=3.0.2,!=3.0.3,<4,>=2.4.2 in /usr/local/lib/python3.9/dist-packages (from httplib2<1dev,>=0.9.2->earthengine-api) (3.0.9)\n",
            "Collecting traittypes<3,>=0.2.1\n",
            "  Downloading traittypes-0.2.1-py2.py3-none-any.whl (8.6 kB)\n",
            "Requirement already satisfied: ipython>=4.0.0 in /usr/local/lib/python3.9/dist-packages (from ipywidgets<8.0.0->geemap) (7.9.0)\n",
            "Requirement already satisfied: traitlets>=4.3.1 in /usr/local/lib/python3.9/dist-packages (from ipywidgets<8.0.0->geemap) (5.7.1)\n",
            "Requirement already satisfied: ipython-genutils~=0.2.0 in /usr/local/lib/python3.9/dist-packages (from ipywidgets<8.0.0->geemap) (0.2.0)\n",
            "Requirement already satisfied: widgetsnbextension~=3.6.0 in /usr/local/lib/python3.9/dist-packages (from ipywidgets<8.0.0->geemap) (3.6.3)\n",
            "Requirement already satisfied: jupyterlab-widgets>=1.0.0 in /usr/local/lib/python3.9/dist-packages (from ipywidgets<8.0.0->geemap) (3.0.6)\n",
            "Requirement already satisfied: tornado>=4.2 in /usr/local/lib/python3.9/dist-packages (from ipykernel->geemap) (6.2)\n",
            "Requirement already satisfied: jupyter-client in /usr/local/lib/python3.9/dist-packages (from ipykernel->geemap) (6.1.12)\n",
            "Requirement already satisfied: urllib3<1.27,>=1.21.1 in /usr/local/lib/python3.9/dist-packages (from requests->earthengine-api) (1.26.15)\n",
            "Requirement already satisfied: charset-normalizer~=2.0.0 in /usr/local/lib/python3.9/dist-packages (from requests->earthengine-api) (2.0.12)\n",
            "Requirement already satisfied: idna<4,>=2.5 in /usr/local/lib/python3.9/dist-packages (from requests->earthengine-api) (3.4)\n",
            "Requirement already satisfied: plotly>=5.2.2 in /usr/local/lib/python3.9/dist-packages (from sankee>=0.1.0->geemap) (5.13.1)\n",
            "Requirement already satisfied: werkzeug>=1.0.1 in /usr/local/lib/python3.9/dist-packages (from tensorboard<2.12,>=2.11->tensorflow) (2.2.3)\n",
            "Requirement already satisfied: tensorboard-plugin-wit>=1.6.0 in /usr/local/lib/python3.9/dist-packages (from tensorboard<2.12,>=2.11->tensorflow) (1.8.1)\n",
            "Requirement already satisfied: markdown>=2.6.8 in /usr/local/lib/python3.9/dist-packages (from tensorboard<2.12,>=2.11->tensorflow) (3.4.2)\n",
            "Requirement already satisfied: google-auth-oauthlib<0.5,>=0.4.1 in /usr/local/lib/python3.9/dist-packages (from tensorboard<2.12,>=2.11->tensorflow) (0.4.6)\n",
            "Requirement already satisfied: tensorboard-data-server<0.7.0,>=0.6.0 in /usr/local/lib/python3.9/dist-packages (from tensorboard<2.12,>=2.11->tensorflow) (0.6.1)\n",
            "Collecting whitebox\n",
            "  Downloading whitebox-2.2.0-py2.py3-none-any.whl (79 kB)\n",
            "\u001b[2K     \u001b[90m━━━━━━━━━━━━━━━━━━━━━━━━━━━━━━━━━━━━━━━━\u001b[0m \u001b[32m79.9/79.9 KB\u001b[0m \u001b[31m12.1 MB/s\u001b[0m eta \u001b[36m0:00:00\u001b[0m\n",
            "\u001b[?25hRequirement already satisfied: future in /usr/local/lib/python3.9/dist-packages (from ffmpeg-python->geemap) (0.18.3)\n",
            "Requirement already satisfied: fsspec==2023.3.0 in /usr/local/lib/python3.9/dist-packages (from gcsfs->hydrafloods) (2023.3.0)\n",
            "Requirement already satisfied: decorator>4.1.2 in /usr/local/lib/python3.9/dist-packages (from gcsfs->hydrafloods) (4.4.2)\n",
            "Collecting aiohttp!=4.0.0a0,!=4.0.0a1\n",
            "  Downloading aiohttp-3.8.4-cp39-cp39-manylinux_2_17_x86_64.manylinux2014_x86_64.whl (1.0 MB)\n",
            "\u001b[2K     \u001b[90m━━━━━━━━━━━━━━━━━━━━━━━━━━━━━━━━━━━━━━━━\u001b[0m \u001b[32m1.0/1.0 MB\u001b[0m \u001b[31m64.4 MB/s\u001b[0m eta \u001b[36m0:00:00\u001b[0m\n",
            "\u001b[?25hRequirement already satisfied: filelock in /usr/local/lib/python3.9/dist-packages (from gdown->geemap) (3.10.1)\n",
            "Collecting ratelim\n",
            "  Downloading ratelim-0.1.6-py2.py3-none-any.whl (4.0 kB)\n",
            "Requirement already satisfied: shapely>=1.7 in /usr/local/lib/python3.9/dist-packages (from geopandas->restee) (2.0.1)\n",
            "Collecting fiona>=1.8\n",
            "  Downloading Fiona-1.9.2-cp39-cp39-manylinux_2_17_x86_64.manylinux2014_x86_64.whl (16.1 MB)\n",
            "\u001b[2K     \u001b[90m━━━━━━━━━━━━━━━━━━━━━━━━━━━━━━━━━━━━━━━━\u001b[0m \u001b[32m16.1/16.1 MB\u001b[0m \u001b[31m76.3 MB/s\u001b[0m eta \u001b[36m0:00:00\u001b[0m\n",
            "\u001b[?25hRequirement already satisfied: google-cloud-core<3.0dev,>=2.3.0 in /usr/local/lib/python3.9/dist-packages (from google-cloud-storage->earthengine-api) (2.3.2)\n",
            "Requirement already satisfied: google-resumable-media>=2.3.2 in /usr/local/lib/python3.9/dist-packages (from google-cloud-storage->earthengine-api) (2.4.1)\n",
            "Requirement already satisfied: fonttools>=4.22.0 in /usr/local/lib/python3.9/dist-packages (from matplotlib->geemap) (4.39.2)\n",
            "Requirement already satisfied: kiwisolver>=1.0.1 in /usr/local/lib/python3.9/dist-packages (from matplotlib->geemap) (1.4.4)\n",
            "Requirement already satisfied: importlib-resources>=3.2.0 in /usr/local/lib/python3.9/dist-packages (from matplotlib->geemap) (5.12.0)\n",
            "Requirement already satisfied: contourpy>=1.0.1 in /usr/local/lib/python3.9/dist-packages (from matplotlib->geemap) (1.0.7)\n",
            "Requirement already satisfied: cycler>=0.10 in /usr/local/lib/python3.9/dist-packages (from matplotlib->geemap) (0.11.0)\n",
            "Collecting requests-cache\n",
            "  Downloading requests_cache-1.0.1-py3-none-any.whl (58 kB)\n",
            "\u001b[2K     \u001b[90m━━━━━━━━━━━━━━━━━━━━━━━━━━━━━━━━━━━━━━━━\u001b[0m \u001b[32m58.7/58.7 KB\u001b[0m \u001b[31m8.6 MB/s\u001b[0m eta \u001b[36m0:00:00\u001b[0m\n",
            "\u001b[?25hCollecting aiosignal>=1.1.2\n",
            "  Downloading aiosignal-1.3.1-py3-none-any.whl (7.6 kB)\n",
            "Collecting multidict<7.0,>=4.5\n",
            "  Downloading multidict-6.0.4-cp39-cp39-manylinux_2_17_x86_64.manylinux2014_x86_64.whl (114 kB)\n",
            "\u001b[2K     \u001b[90m━━━━━━━━━━━━━━━━━━━━━━━━━━━━━━━━━━━━━━\u001b[0m \u001b[32m114.2/114.2 KB\u001b[0m \u001b[31m11.8 MB/s\u001b[0m eta \u001b[36m0:00:00\u001b[0m\n",
            "\u001b[?25hCollecting async-timeout<5.0,>=4.0.0a3\n",
            "  Downloading async_timeout-4.0.2-py3-none-any.whl (5.8 kB)\n",
            "Collecting yarl<2.0,>=1.0\n",
            "  Downloading yarl-1.8.2-cp39-cp39-manylinux_2_17_x86_64.manylinux2014_x86_64.whl (264 kB)\n",
            "\u001b[2K     \u001b[90m━━━━━━━━━━━━━━━━━━━━━━━━━━━━━━━━━━━━━━\u001b[0m \u001b[32m264.6/264.6 KB\u001b[0m \u001b[31m30.0 MB/s\u001b[0m eta \u001b[36m0:00:00\u001b[0m\n",
            "\u001b[?25hCollecting frozenlist>=1.1.1\n",
            "  Downloading frozenlist-1.3.3-cp39-cp39-manylinux_2_5_x86_64.manylinux1_x86_64.manylinux_2_17_x86_64.manylinux2014_x86_64.whl (158 kB)\n",
            "\u001b[2K     \u001b[90m━━━━━━━━━━━━━━━━━━━━━━━━━━━━━━━━━━━━━━\u001b[0m \u001b[32m158.8/158.8 KB\u001b[0m \u001b[31m22.7 MB/s\u001b[0m eta \u001b[36m0:00:00\u001b[0m\n",
            "\u001b[?25hRequirement already satisfied: soupsieve>1.2 in /usr/local/lib/python3.9/dist-packages (from beautifulsoup4>=4.9.0->geeadd>=0.5.1->geemap) (2.4)\n",
            "Requirement already satisfied: importlib-metadata in /usr/local/lib/python3.9/dist-packages (from fiona>=1.8->geopandas->restee) (6.1.0)\n",
            "Collecting munch>=2.3.2\n",
            "  Downloading munch-2.5.0-py2.py3-none-any.whl (10 kB)\n",
            "Requirement already satisfied: googleapis-common-protos<2.0dev,>=1.56.2 in /usr/local/lib/python3.9/dist-packages (from google-api-core!=2.0.*,!=2.1.*,!=2.2.*,!=2.3.0,<3.0.0dev,>=1.31.5->google-api-python-client>=1.12.1->earthengine-api) (1.59.0)\n",
            "Requirement already satisfied: requests-oauthlib>=0.7.0 in /usr/local/lib/python3.9/dist-packages (from google-auth-oauthlib<0.5,>=0.4.1->tensorboard<2.12,>=2.11->tensorflow) (1.3.1)\n",
            "Requirement already satisfied: google-crc32c<2.0dev,>=1.0 in /usr/local/lib/python3.9/dist-packages (from google-resumable-media>=2.3.2->google-cloud-storage->earthengine-api) (1.5.0)\n",
            "Requirement already satisfied: zipp>=3.1.0 in /usr/local/lib/python3.9/dist-packages (from importlib-resources>=3.2.0->matplotlib->geemap) (3.15.0)\n",
            "Requirement already satisfied: pickleshare in /usr/local/lib/python3.9/dist-packages (from ipython>=4.0.0->ipywidgets<8.0.0->geemap) (0.7.5)\n",
            "Requirement already satisfied: backcall in /usr/local/lib/python3.9/dist-packages (from ipython>=4.0.0->ipywidgets<8.0.0->geemap) (0.2.0)\n",
            "Requirement already satisfied: pygments in /usr/local/lib/python3.9/dist-packages (from ipython>=4.0.0->ipywidgets<8.0.0->geemap) (2.14.0)\n",
            "Requirement already satisfied: prompt-toolkit<2.1.0,>=2.0.0 in /usr/local/lib/python3.9/dist-packages (from ipython>=4.0.0->ipywidgets<8.0.0->geemap) (2.0.10)\n",
            "Collecting jedi>=0.10\n",
            "  Downloading jedi-0.18.2-py2.py3-none-any.whl (1.6 MB)\n",
            "\u001b[2K     \u001b[90m━━━━━━━━━━━━━━━━━━━━━━━━━━━━━━━━━━━━━━━━\u001b[0m \u001b[32m1.6/1.6 MB\u001b[0m \u001b[31m82.0 MB/s\u001b[0m eta \u001b[36m0:00:00\u001b[0m\n",
            "\u001b[?25hRequirement already satisfied: pexpect in /usr/local/lib/python3.9/dist-packages (from ipython>=4.0.0->ipywidgets<8.0.0->geemap) (4.8.0)\n",
            "Requirement already satisfied: MarkupSafe>=2.0 in /usr/local/lib/python3.9/dist-packages (from jinja2>=2.9->folium>=0.11.0->geemap) (2.1.2)\n",
            "Requirement already satisfied: tenacity>=6.2.0 in /usr/local/lib/python3.9/dist-packages (from plotly>=5.2.2->sankee>=0.1.0->geemap) (8.2.2)\n",
            "Requirement already satisfied: pyasn1<0.5.0,>=0.4.6 in /usr/local/lib/python3.9/dist-packages (from pyasn1-modules>=0.2.1->google-auth>=1.4.1->earthengine-api) (0.4.8)\n",
            "Requirement already satisfied: notebook>=4.4.1 in /usr/local/lib/python3.9/dist-packages (from widgetsnbextension~=3.6.0->ipywidgets<8.0.0->geemap) (6.3.0)\n",
            "Requirement already satisfied: jupyter-core>=4.6.0 in /usr/local/lib/python3.9/dist-packages (from jupyter-client->ipykernel->geemap) (5.3.0)\n",
            "Requirement already satisfied: pyzmq>=13 in /usr/local/lib/python3.9/dist-packages (from jupyter-client->ipykernel->geemap) (23.2.1)\n",
            "Collecting cattrs>=22.2\n",
            "  Downloading cattrs-22.2.0-py3-none-any.whl (35 kB)\n",
            "Requirement already satisfied: platformdirs>=2.5 in /usr/local/lib/python3.9/dist-packages (from requests-cache->simplecmr->hydrafloods) (3.1.1)\n",
            "Collecting url-normalize>=1.4\n",
            "  Downloading url_normalize-1.4.3-py2.py3-none-any.whl (6.8 kB)\n",
            "Requirement already satisfied: PySocks!=1.5.7,>=1.5.6 in /usr/local/lib/python3.9/dist-packages (from requests->earthengine-api) (1.7.1)\n",
            "Requirement already satisfied: networkx>=2.2 in /usr/local/lib/python3.9/dist-packages (from scikit-image->efficientnet==1.0.0->segmentation_models) (3.0)\n",
            "Requirement already satisfied: PyWavelets>=1.1.1 in /usr/local/lib/python3.9/dist-packages (from scikit-image->efficientnet==1.0.0->segmentation_models) (1.4.1)\n",
            "Requirement already satisfied: imageio>=2.4.1 in /usr/local/lib/python3.9/dist-packages (from scikit-image->efficientnet==1.0.0->segmentation_models) (2.25.1)\n",
            "Requirement already satisfied: tifffile>=2019.7.26 in /usr/local/lib/python3.9/dist-packages (from scikit-image->efficientnet==1.0.0->segmentation_models) (2023.3.21)\n",
            "Requirement already satisfied: exceptiongroup in /usr/local/lib/python3.9/dist-packages (from cattrs>=22.2->requests-cache->simplecmr->hydrafloods) (1.1.1)\n",
            "Requirement already satisfied: parso<0.9.0,>=0.8.0 in /usr/local/lib/python3.9/dist-packages (from jedi>=0.10->ipython>=4.0.0->ipywidgets<8.0.0->geemap) (0.8.3)\n",
            "Requirement already satisfied: terminado>=0.8.3 in /usr/local/lib/python3.9/dist-packages (from notebook>=4.4.1->widgetsnbextension~=3.6.0->ipywidgets<8.0.0->geemap) (0.17.1)\n",
            "Requirement already satisfied: nbconvert in /usr/local/lib/python3.9/dist-packages (from notebook>=4.4.1->widgetsnbextension~=3.6.0->ipywidgets<8.0.0->geemap) (6.5.4)\n",
            "Requirement already satisfied: nbformat in /usr/local/lib/python3.9/dist-packages (from notebook>=4.4.1->widgetsnbextension~=3.6.0->ipywidgets<8.0.0->geemap) (5.8.0)\n",
            "Requirement already satisfied: argon2-cffi in /usr/local/lib/python3.9/dist-packages (from notebook>=4.4.1->widgetsnbextension~=3.6.0->ipywidgets<8.0.0->geemap) (21.3.0)\n",
            "Requirement already satisfied: prometheus-client in /usr/local/lib/python3.9/dist-packages (from notebook>=4.4.1->widgetsnbextension~=3.6.0->ipywidgets<8.0.0->geemap) (0.16.0)\n",
            "Requirement already satisfied: Send2Trash>=1.5.0 in /usr/local/lib/python3.9/dist-packages (from notebook>=4.4.1->widgetsnbextension~=3.6.0->ipywidgets<8.0.0->geemap) (1.8.0)\n",
            "Requirement already satisfied: wcwidth in /usr/local/lib/python3.9/dist-packages (from prompt-toolkit<2.1.0,>=2.0.0->ipython>=4.0.0->ipywidgets<8.0.0->geemap) (0.2.6)\n",
            "Requirement already satisfied: oauthlib>=3.0.0 in /usr/local/lib/python3.9/dist-packages (from requests-oauthlib>=0.7.0->google-auth-oauthlib<0.5,>=0.4.1->tensorboard<2.12,>=2.11->tensorflow) (3.2.2)\n",
            "Requirement already satisfied: ptyprocess>=0.5 in /usr/local/lib/python3.9/dist-packages (from pexpect->ipython>=4.0.0->ipywidgets<8.0.0->geemap) (0.7.0)\n",
            "Requirement already satisfied: argon2-cffi-bindings in /usr/local/lib/python3.9/dist-packages (from argon2-cffi->notebook>=4.4.1->widgetsnbextension~=3.6.0->ipywidgets<8.0.0->geemap) (21.2.0)\n",
            "Requirement already satisfied: nbclient>=0.5.0 in /usr/local/lib/python3.9/dist-packages (from nbconvert->notebook>=4.4.1->widgetsnbextension~=3.6.0->ipywidgets<8.0.0->geemap) (0.7.2)\n",
            "Requirement already satisfied: pandocfilters>=1.4.1 in /usr/local/lib/python3.9/dist-packages (from nbconvert->notebook>=4.4.1->widgetsnbextension~=3.6.0->ipywidgets<8.0.0->geemap) (1.5.0)\n",
            "Requirement already satisfied: bleach in /usr/local/lib/python3.9/dist-packages (from nbconvert->notebook>=4.4.1->widgetsnbextension~=3.6.0->ipywidgets<8.0.0->geemap) (6.0.0)\n",
            "Requirement already satisfied: lxml in /usr/local/lib/python3.9/dist-packages (from nbconvert->notebook>=4.4.1->widgetsnbextension~=3.6.0->ipywidgets<8.0.0->geemap) (4.9.2)\n",
            "Requirement already satisfied: entrypoints>=0.2.2 in /usr/local/lib/python3.9/dist-packages (from nbconvert->notebook>=4.4.1->widgetsnbextension~=3.6.0->ipywidgets<8.0.0->geemap) (0.4)\n",
            "Requirement already satisfied: tinycss2 in /usr/local/lib/python3.9/dist-packages (from nbconvert->notebook>=4.4.1->widgetsnbextension~=3.6.0->ipywidgets<8.0.0->geemap) (1.2.1)\n",
            "Requirement already satisfied: defusedxml in /usr/local/lib/python3.9/dist-packages (from nbconvert->notebook>=4.4.1->widgetsnbextension~=3.6.0->ipywidgets<8.0.0->geemap) (0.7.1)\n",
            "Requirement already satisfied: jupyterlab-pygments in /usr/local/lib/python3.9/dist-packages (from nbconvert->notebook>=4.4.1->widgetsnbextension~=3.6.0->ipywidgets<8.0.0->geemap) (0.2.2)\n",
            "Requirement already satisfied: mistune<2,>=0.8.1 in /usr/local/lib/python3.9/dist-packages (from nbconvert->notebook>=4.4.1->widgetsnbextension~=3.6.0->ipywidgets<8.0.0->geemap) (0.8.4)\n",
            "Requirement already satisfied: fastjsonschema in /usr/local/lib/python3.9/dist-packages (from nbformat->notebook>=4.4.1->widgetsnbextension~=3.6.0->ipywidgets<8.0.0->geemap) (2.16.3)\n",
            "Requirement already satisfied: jsonschema>=2.6 in /usr/local/lib/python3.9/dist-packages (from nbformat->notebook>=4.4.1->widgetsnbextension~=3.6.0->ipywidgets<8.0.0->geemap) (4.3.3)\n",
            "Requirement already satisfied: pyrsistent!=0.17.0,!=0.17.1,!=0.17.2,>=0.14.0 in /usr/local/lib/python3.9/dist-packages (from jsonschema>=2.6->nbformat->notebook>=4.4.1->widgetsnbextension~=3.6.0->ipywidgets<8.0.0->geemap) (0.19.3)\n",
            "Requirement already satisfied: cffi>=1.0.1 in /usr/local/lib/python3.9/dist-packages (from argon2-cffi-bindings->argon2-cffi->notebook>=4.4.1->widgetsnbextension~=3.6.0->ipywidgets<8.0.0->geemap) (1.15.1)\n",
            "Requirement already satisfied: webencodings in /usr/local/lib/python3.9/dist-packages (from bleach->nbconvert->notebook>=4.4.1->widgetsnbextension~=3.6.0->ipywidgets<8.0.0->geemap) (0.5.1)\n",
            "Requirement already satisfied: pycparser in /usr/local/lib/python3.9/dist-packages (from cffi>=1.0.1->argon2-cffi-bindings->argon2-cffi->notebook>=4.4.1->widgetsnbextension~=3.6.0->ipywidgets<8.0.0->geemap) (2.21)\n",
            "Building wheels for collected packages: ee-extra, sankee, fire, pipetools, pycrs, pyperclip\n",
            "  Building wheel for ee-extra (setup.py) ... \u001b[?25l\u001b[?25hdone\n",
            "  Created wheel for ee-extra: filename=ee_extra-0.0.15-py3-none-any.whl size=236771 sha256=67f872c467e32a891199706377c9efc38a82f7e4f63483fa1f1847ca3eb5c773\n",
            "  Stored in directory: /root/.cache/pip/wheels/66/66/06/98d6dee3f612d84d2b487fc73ca2c2479279dc2714faddcc10\n",
            "  Building wheel for sankee (setup.py) ... \u001b[?25l\u001b[?25hdone\n",
            "  Created wheel for sankee: filename=sankee-0.2.3-py3-none-any.whl size=30511 sha256=6f65a8e021aacb48732508059cbae2978d8faf6adff33281972cd58d954a3104\n",
            "  Stored in directory: /root/.cache/pip/wheels/a0/77/76/04746a9b2af1cfe05fbfb90463ee0a1e5a632e162d85e7cf33\n",
            "  Building wheel for fire (setup.py) ... \u001b[?25l\u001b[?25hdone\n",
            "  Created wheel for fire: filename=fire-0.5.0-py2.py3-none-any.whl size=116952 sha256=f3692488d876392b60297942a48e7061abad932ce35c1df28e50d5c5715b909d\n",
            "  Stored in directory: /root/.cache/pip/wheels/f7/f1/89/b9ea2bf8f80ec027a88fef1d354b3816b4d3d29530988972f6\n",
            "  Building wheel for pipetools (setup.py) ... \u001b[?25l\u001b[?25hdone\n",
            "  Created wheel for pipetools: filename=pipetools-1.1.0-py3-none-any.whl size=13618 sha256=05bf0af0b0a88277b3beaa1c81cf450d609eafe245c6082b9259f45f07394a2b\n",
            "  Stored in directory: /root/.cache/pip/wheels/1e/85/91/09b01eadab41a270bf565a3570cac52a4ba96bf9539eae73d3\n",
            "  Building wheel for pycrs (setup.py) ... \u001b[?25l\u001b[?25hdone\n",
            "  Created wheel for pycrs: filename=PyCRS-1.0.2-py3-none-any.whl size=32702 sha256=6121558da031b68265abf12be879058ceb969e3b2c43e5b77c1c51bd3f51e6aa\n",
            "  Stored in directory: /root/.cache/pip/wheels/94/01/24/bc7bff66667ef317615144a15e04593a08d9bb322f2c427d6c\n",
            "  Building wheel for pyperclip (setup.py) ... \u001b[?25l\u001b[?25hdone\n",
            "  Created wheel for pyperclip: filename=pyperclip-1.8.2-py3-none-any.whl size=11135 sha256=ff80e14be3e84ea78069f7e7923e44aefb88dded8ec35684d3d6fe02ddd3bc6b\n",
            "  Stored in directory: /root/.cache/pip/wheels/0c/09/9e/49e21a6840ef7955b06d47394afef0058f0378c0914e48b8b8\n",
            "Successfully built ee-extra sankee fire pipetools pycrs pyperclip\n",
            "Installing collected packages: pyperclip, pycrs, logzero, colour, xyzservices, whitebox, url-normalize, traittypes, snuggs, scooby, ratelim, python-box, pyshp, pyproj, pipetools, patchify, munch, multidict, jedi, geojson, frozenlist, fire, ffmpeg-python, cligj, click-plugins, cattrs, backoff, async-timeout, affine, yarl, requests-cache, rasterio, keras-applications, geocoder, fiona, aiosignal, simplecmr, image-classifiers, geopandas, efficientnet, aiohttp, segmentation_models, rioxarray, gcsfs, restee, hydrafloods, geeadd, eerepr, ee-extra, sankee, ipytree, ipyleaflet, ipyfilechooser, ipyevents, bqplot, whiteboxgui, geemap\n",
            "Successfully installed affine-2.4.0 aiohttp-3.8.4 aiosignal-1.3.1 async-timeout-4.0.2 backoff-2.2.1 bqplot-0.12.36 cattrs-22.2.0 click-plugins-1.1.1 cligj-0.7.2 colour-0.1.5 ee-extra-0.0.15 eerepr-0.0.4 efficientnet-1.0.0 ffmpeg-python-0.2.0 fiona-1.9.2 fire-0.5.0 frozenlist-1.3.3 gcsfs-2023.3.0 geeadd-0.5.6 geemap-0.20.3 geocoder-1.38.1 geojson-3.0.1 geopandas-0.12.2 hydrafloods-2021.10.11 image-classifiers-1.0.0 ipyevents-2.0.1 ipyfilechooser-0.6.0 ipyleaflet-0.17.2 ipytree-0.2.2 jedi-0.18.2 keras-applications-1.0.8 logzero-1.7.0 multidict-6.0.4 munch-2.5.0 patchify-0.2.3 pipetools-1.1.0 pycrs-1.0.2 pyperclip-1.8.2 pyproj-3.4.1 pyshp-2.3.1 python-box-7.0.1 rasterio-1.3.6 ratelim-0.1.6 requests-cache-1.0.1 restee-0.0.3 rioxarray-0.14.0 sankee-0.2.3 scooby-0.7.1 segmentation_models-1.0.1 simplecmr-0.0.1 snuggs-1.4.7 traittypes-0.2.1 url-normalize-1.4.3 whitebox-2.2.0 whiteboxgui-2.2.0 xyzservices-2023.2.0 yarl-1.8.2\n"
          ]
        }
      ],
      "source": [
        "!pip install numpy \\\n",
        "             pandas \\\n",
        "             xarray \\\n",
        "             rioxarray \\\n",
        "             rasterio \\\n",
        "             hydrafloods \\\n",
        "             tensorflow \\\n",
        "             torch \\\n",
        "             scikit-learn \\\n",
        "             scipy \\\n",
        "             geemap \\\n",
        "             earthengine-api \\\n",
        "             restee \\\n",
        "             patchify \\\n",
        "             segmentation_models \n",
        "\n",
        "                      "
      ]
    },
    {
      "cell_type": "code",
      "source": [],
      "metadata": {
        "id": "KYF4_YDgzwp2"
      },
      "execution_count": 1,
      "outputs": []
    },
    {
      "cell_type": "markdown",
      "source": [
        "# Import packages"
      ],
      "metadata": {
        "id": "ceh9yQAd6UIA"
      }
    },
    {
      "cell_type": "code",
      "source": [
        "%pylab inline"
      ],
      "metadata": {
        "colab": {
          "base_uri": "https://localhost:8080/"
        },
        "id": "4fMAQVcUzwsZ",
        "outputId": "12a0a4f0-11c9-4cf9-f8fe-b9521e605fed"
      },
      "execution_count": 2,
      "outputs": [
        {
          "output_type": "stream",
          "name": "stdout",
          "text": [
            "Populating the interactive namespace from numpy and matplotlib\n"
          ]
        }
      ]
    },
    {
      "cell_type": "code",
      "source": [
        "import geemap\n",
        "import ee\n",
        "import hydrafloods as hf\n",
        "import restee\n",
        "\n",
        "import xarray as xr\n",
        "import rasterio as rio\n",
        "import rioxarray\n",
        "from rioxarray.merge import merge_arrays\n",
        "import numpy as np\n",
        "import dask.array as da\n",
        "\n",
        "from patchify import patchify\n",
        "from sklearn.decomposition import PCA\n",
        "from sklearn.decomposition import FactorAnalysis\n",
        "from sklearn.preprocessing import MinMaxScaler, StandardScaler\n",
        "import scipy as sci\n",
        "from scipy import ndimage\n",
        "\n",
        "import glob\n",
        "import matplotlib\n",
        "from matplotlib import pyplot as plt\n",
        "from matplotlib.path import Path\n",
        "import matplotlib.ticker as mtick\n",
        "from matplotlib.ticker import PercentFormatter\n",
        "from mpl_toolkits.axes_grid1 import make_axes_locatable\n",
        "\n",
        "import datetime as dt\n",
        "import urllib.request\n",
        "import re\n",
        "import pytz\n",
        "import os\n",
        "import gc\n",
        "\n",
        "\n",
        "_ = geemap.Map()\n",
        "ee.Initialize()"
      ],
      "metadata": {
        "id": "hXFSbQtRzwvc",
        "colab": {
          "base_uri": "https://localhost:8080/",
          "height": 176
        },
        "outputId": "92a96bfc-8c78-445f-a049-c9c241ed79cb"
      },
      "execution_count": 3,
      "outputs": [
        {
          "output_type": "stream",
          "name": "stdout",
          "text": [
            "To authorize access needed by Earth Engine, open the following URL in a web browser and follow the instructions. If the web browser does not start automatically, please manually browse the URL below.\n",
            "\n",
            "    https://code.earthengine.google.com/client-auth?scopes=https%3A//www.googleapis.com/auth/earthengine%20https%3A//www.googleapis.com/auth/devstorage.full_control&request_id=Z1gMeuz0jktEuU2MY0Ox0Kx_7jSYfJvXReUjiyqjvss&tc=gut8wM9Lw4VI88PKg8-xJ9bDC1l2CE1oHRcgW_PUdi4&cc=CGwbdYi5SrO2c1nBW_kK3Iq4dZ_2dqi626moKe8vLnQ\n",
            "\n",
            "The authorization workflow will generate a code, which you should paste in the box below.\n",
            "Enter verification code: 4/1AVHEtk4A3lP0x7YopsbUVC7xQ4VO8RWrBuHr4s-BiRALbJfUm2b-OgE_N4A\n",
            "\n",
            "Successfully saved authorization token.\n"
          ]
        }
      ]
    },
    {
      "cell_type": "code",
      "source": [
        "from google.colab import drive\n",
        "drive.mount('/content/drive')"
      ],
      "metadata": {
        "colab": {
          "base_uri": "https://localhost:8080/"
        },
        "id": "op5V2RTQzw06",
        "outputId": "f563bffc-334b-40dd-cd95-765e7b43d678"
      },
      "execution_count": 4,
      "outputs": [
        {
          "output_type": "stream",
          "name": "stdout",
          "text": [
            "Mounted at /content/drive\n"
          ]
        }
      ]
    },
    {
      "cell_type": "markdown",
      "source": [
        "**HYDRAFloods GEE ImageCollection batch_export function seems to have bug**\n",
        "\n",
        "Correct the bug and paste to here for convenience"
      ],
      "metadata": {
        "id": "80BrlV_YEVha"
      }
    },
    {
      "cell_type": "code",
      "source": [
        "import ee\n",
        "from ee.ee_exception import EEException\n",
        "import math\n",
        "import string\n",
        "import random\n",
        "import datetime\n",
        "from hydrafloods import decorators\n",
        "import hydrafloods.indices as all_indices\n",
        "\n",
        "\n",
        "def export_image(\n",
        "    image,\n",
        "    region,\n",
        "    asset_id=None,\n",
        "    description=None,\n",
        "    scale=1000,\n",
        "    crs=\"EPSG:4326\",\n",
        "    pyramiding=None,\n",
        "    export_type=\"toAsset\",\n",
        "    folder=None,\n",
        "):\n",
        "    \"\"\"Function to wrap image export with EE Python API\n",
        "\n",
        "    args:\n",
        "        image (ee.Image): image to export\n",
        "        region (ee.Geometry): region to export image\n",
        "        asset_id (str | None, optional): asset ID to export image to\\\n",
        "            if None then asset_id will be a random string. default = None\n",
        "        description (str | None, optional): description to identify image export/\n",
        "            if None then description will be random string. default = None\n",
        "        scale (int, optional): resolution in meters to export image to. default = 1000\n",
        "        crs (str, optional): epsg code to export image to. default = \"EPSG:4326\"\n",
        "        pyramiding (dict | None, optional): dictionary defining band pyramiding scheme.\n",
        "            if None then \"mean\" will be used as default for all bands. default = None\n",
        "        export_type (str, optional) : method by which to export the image.\n",
        "            Default is 'toAsset', can also be 'toDrive'.\n",
        "        folder (str | None, optional): target folder to export for 'toDrive'/\n",
        "            if None then export should go to root of Drive\n",
        "\n",
        "    \"\"\"\n",
        "    if (asset_id is None) or (type(asset_id) != str):\n",
        "        asset_id = \"\".join(\n",
        "            random.SystemRandom().choice(string.ascii_letters) for _ in range(8)\n",
        "        ).lower()\n",
        "    if (description is None) or (type(description) != str):\n",
        "        description = \"\".join(\n",
        "            random.SystemRandom().choice(string.ascii_letters) for _ in range(8)\n",
        "        ).lower()\n",
        "    if type(export_type) != str:\n",
        "        raise TypeError(\n",
        "            f\"Input for export_type not a string, was a \" f\"{type(export_type)}.\"\n",
        "        )\n",
        "    elif (export_type != \"toAsset\") and (export_type != \"toDrive\"):\n",
        "        raise ValueError(\n",
        "            \"Invalid input for export_type, must be \" '\"toAsset\" or \"toDrive\".'\n",
        "        )\n",
        "    if (folder is not None) and (type(folder) != str):\n",
        "        raise TypeError(f\"Input for folder was not a string, was a \" f\"{type(folder)}\")\n",
        "    # get serializable geometry for export\n",
        "    export_region = region.bounds(maxError=10).getInfo()[\"coordinates\"]\n",
        "\n",
        "    if pyramiding is None:\n",
        "        pyramiding = {\".default\": \"mean\"}\n",
        "\n",
        "    # set export process\n",
        "    if export_type == \"toAsset\":\n",
        "        export = ee.batch.Export.image.toAsset(\n",
        "            image,\n",
        "            description=description,\n",
        "            assetId=asset_id,\n",
        "            scale=scale,\n",
        "            region=export_region,\n",
        "            maxPixels=1e13,\n",
        "            crs=crs,\n",
        "            pyramidingPolicy=pyramiding,\n",
        "        )\n",
        "    elif export_type == \"toDrive\":\n",
        "        export = ee.batch.Export.image.toDrive(\n",
        "            image,\n",
        "            description=description,\n",
        "            folder=folder,\n",
        "            scale=scale,\n",
        "            region=export_region,\n",
        "            maxPixels=1e13,\n",
        "            crs=crs,\n",
        "        )\n",
        "    # start export process\n",
        "    export.start()\n",
        "\n",
        "    return\n",
        "\n",
        "\n",
        "def batch_export(\n",
        "    collection,\n",
        "    collection_asset,\n",
        "    region=None,\n",
        "    prefix=None,\n",
        "    suffix=None,\n",
        "    scale=1000,\n",
        "    crs=\"EPSG:4326\",\n",
        "    pyramiding=None,\n",
        "    export_type=\"toAsset\",\n",
        "    folder=None,\n",
        "    metadata=None,\n",
        "    verbose=False,\n",
        "):\n",
        "    \"\"\"Function to export each image in a collection\n",
        "    Wraps `export_image` will set YYYYMMdd formatted time in file name\n",
        "\n",
        "    args:\n",
        "        collection (ee.ImageCollection): image collection to export\n",
        "        collection_asset (str): image collection asset ID to export to\n",
        "        region (ee.Geometry): region to export image\n",
        "        prefix (str): prefix string to add before time info in name\n",
        "        suffix (str): suffix string to add after time info in name\n",
        "        scale (int, optional): resolution in meters to export image to. default = 1000\n",
        "        crs (str, optional): epsg code to export image to. default = \"EPSG:4326\"\n",
        "        pyramiding (dict | None, optional): dictionary defining band pyramiding scheme.\n",
        "            if None then \"mean\" will be used as default for all bands. default = None\n",
        "        export_type (str, optional) : method by which to export the image.\n",
        "            Default is 'toAsset', can also be 'toDrive'.\n",
        "        folder (str | None, optional): target folder to export for 'toDrive'/\n",
        "                if None then export should go to root of Drive\n",
        "        metadata (dict | None, optional):\n",
        "        verbose (bool, optional):\n",
        "\n",
        "    \"\"\"\n",
        "    if type(collection) is not ee.imagecollection.ImageCollection:\n",
        "        try:\n",
        "            collection = getattr(collection, \"collection\")\n",
        "        except Exception as e:\n",
        "            raise TypeError(\n",
        "                \"argument collection needs to be either of type ee.ImageCollection \"\n",
        "                \"or hydrafloods.hfCollection\"\n",
        "            )\n",
        "\n",
        "    n = collection.size()\n",
        "    exportImages = collection.sort(\"system:time_start\", False).toList(n)\n",
        "    nIter = n.getInfo()\n",
        "\n",
        "    for i in range(nIter):\n",
        "        img = ee.Image(exportImages.get(i))\n",
        "        if metadata is not None:\n",
        "            img = img.set(metadata)\n",
        "\n",
        "        t = img.get(\"system:time_start\").getInfo()\n",
        "        date = datetime.datetime.utcfromtimestamp(t / 1e3).strftime(\"%Y%m%d\")\n",
        "\n",
        "        if region is None:\n",
        "            region = img.geometry()\n",
        "\n",
        "        exportName = date\n",
        "        if prefix is not None:\n",
        "            exportName = f\"{prefix}_\" + exportName\n",
        "        if suffix is not None:\n",
        "            exportName = exportName + f\"_{suffix}\"\n",
        "\n",
        "        description = exportName\n",
        "        if verbose:\n",
        "            print(f\"running export for {description}\")\n",
        "\n",
        "        if not collection_asset.endswith(\"/\"):\n",
        "            collection_asset += \"/\"\n",
        "\n",
        "        exportName = collection_asset + description\n",
        "\n",
        "        export_image(\n",
        "            img,\n",
        "            region,\n",
        "            asset_id=exportName, # originally was \"assed_id\", should be \"asset_id\"\n",
        "            description=description,\n",
        "            scale=scale,\n",
        "            crs=crs,\n",
        "            pyramiding=pyramiding,\n",
        "            export_type=export_type,\n",
        "            folder=folder,\n",
        "        )\n",
        "\n",
        "    return"
      ],
      "metadata": {
        "id": "lvYQySj1Vzdm"
      },
      "execution_count": 82,
      "outputs": []
    },
    {
      "cell_type": "code",
      "source": [],
      "metadata": {
        "id": "0mIAPHMHEU97"
      },
      "execution_count": null,
      "outputs": []
    },
    {
      "cell_type": "markdown",
      "source": [
        "# Data preparation using Google Earth Engine (GEE)"
      ],
      "metadata": {
        "id": "N-MuH9Jy7D76"
      }
    },
    {
      "cell_type": "markdown",
      "source": [
        "**Map function for clipping the GEE ImageCollection**"
      ],
      "metadata": {
        "id": "m0os-dZZI-5h"
      }
    },
    {
      "cell_type": "code",
      "source": [
        "def clip_aoi(image):\n",
        "    return image.clip(aoi_bbox)"
      ],
      "metadata": {
        "id": "UNn1eh7aJB2E"
      },
      "execution_count": 5,
      "outputs": []
    },
    {
      "cell_type": "markdown",
      "source": [
        "**1. Define an Area-Of-Interest (AOI)**"
      ],
      "metadata": {
        "id": "lK7vHnnt-l6K"
      }
    },
    {
      "cell_type": "code",
      "source": [
        "# ----- Define AOI as a rectangle (can be polygon as well, check \"ee.Geometry.Polygon\") -----\n",
        "xmin = 102.864\n",
        "xmax = 105.471\n",
        "ymin = 11.779\n",
        "ymax = 13.7742 \n",
        "aoi_bbox = ee.Geometry.Rectangle([xmin,ymin,xmax,ymax])"
      ],
      "metadata": {
        "id": "XWzT8qxj-mIu"
      },
      "execution_count": 6,
      "outputs": []
    },
    {
      "cell_type": "markdown",
      "source": [
        "**2. Get Digital Elevation Model**"
      ],
      "metadata": {
        "id": "hQsF68TFHOFq"
      }
    },
    {
      "cell_type": "code",
      "source": [
        "# ----- Get DEM and calculate its aspect, slope -----\n",
        "# Use MERIT DEM here, but can be switched to others by changing \"dem_src\"\n",
        "# Check GEE Data Catalogue\n",
        "dem_src = 'MERIT/DEM/v1_0_3'\n",
        "if dem_src == 'MERIT/DEM/v1_0_3':\n",
        "    dem_band = 'dem'\n",
        "else:\n",
        "    dem_band = 'elevation' # This part has to be changed based on different DEM data\n",
        "\n",
        "dem_data = ee.Image(dem_src).select(dem_band)\n",
        "\n",
        "dem_aoi = dem_data.clip(aoi_bbox) #clip the DEM to AOI\n",
        "\n",
        "# Calculate aspect, slope of DEM\n",
        "apt_aoi = ee.Terrain.aspect(dem_aoi)\n",
        "slp_aoi = ee.Terrain.slope(dem_aoi)"
      ],
      "metadata": {
        "id": "L13pyY7-HOXb"
      },
      "execution_count": 7,
      "outputs": []
    },
    {
      "cell_type": "markdown",
      "source": [
        "**3. Get Sentinel-1 GEE ImageCollection and pre-process it**"
      ],
      "metadata": {
        "id": "_U5Y4hAK7OI7"
      }
    },
    {
      "cell_type": "code",
      "source": [
        "# ----- Get the GEE ImageCollection -----\n",
        "s1_query_col = (ee.ImageCollection(\"COPERNICUS/S1_GRD\")\n",
        "           .filter(ee.Filter.listContains('transmitterReceiverPolarisation','VV'))\n",
        "           .filter(ee.Filter.listContains('transmitterReceiverPolarisation','VH'))   \n",
        "           .filter(ee.Filter.eq('platform_number','A')) # or 'B'\n",
        "           .filter(ee.Filter.eq('instrumentMode', 'IW'))\n",
        "           .filter(ee.Filter.eq('relativeOrbitNumber_start',91)) # Can check Alaska Satellite Facility Data Vertex to get the relative orbit number (Path)\n",
        "           .filter(ee.Filter.eq('relativeOrbitNumber_stop',91))\n",
        "           .filter(ee.Filter.eq('orbitProperties_pass', 'DESCENDING'))\n",
        "           .filter(ee.Filter.date('2016-01-01','2018-12-31'))\n",
        "           .filter(ee.Filter.bounds(aoi_bbox))\n",
        ")\n",
        "\n",
        "# ----- Use HYDRAFloods for satellite image pre-processing (mosaicking, slope correction, speckle filtering) -----\n",
        "mosaick_opt = 1 # This part depends on if your AOI requires mosaicking frames of images\n",
        "s1_query_hf = hf.datasets.Dataset.from_imgcollection(s1_query_col) # Convert GEE ImageCollection to HYDRAFloods dataset\n",
        "if mosaick_opt:\n",
        "    s1_query_hf = s1_query_hf.aggregate_time(clip_to_area=True) # Mosaic images in the collection by date\n",
        "s1_query_hf_flat = s1_query_hf.apply_func(hf.slope_correction, elevation = dem_data) # Slope correction      \n",
        "s1_query_hf_flat_filt = s1_query_hf_flat.apply_func(hf.filtering.gamma_map) # Speckle filtering\n",
        "s1_query_hf_flat_filt = ee.ImageCollection(s1_query_hf_flat_filt.collection) # Convert HYDRAFloods ImageCollection to GEE ImageCollection\n",
        "s1_aoi = s1_query_hf_flat_filt.map(clip_aoi) # Clip the GEE ImageCollection to the AOI\n"
      ],
      "metadata": {
        "id": "Ulo4rLlQzw6Y"
      },
      "execution_count": 8,
      "outputs": []
    },
    {
      "cell_type": "markdown",
      "source": [
        "**4. Get land cover data**"
      ],
      "metadata": {
        "id": "rf6oWrRfHlb8"
      }
    },
    {
      "cell_type": "code",
      "source": [
        "# ----- Land cover data -----\n",
        "lulc_data = ee.ImageCollection(\"ESA/WorldCover/v100\").first().select('Map')\n",
        "lulc_aoi = lulc_data.clip(aoi_bbox)"
      ],
      "metadata": {
        "id": "9QB42aLk7Cae"
      },
      "execution_count": 9,
      "outputs": []
    },
    {
      "cell_type": "markdown",
      "source": [
        "**5. Get HAND data**"
      ],
      "metadata": {
        "id": "30BRHUj18LOc"
      }
    },
    {
      "cell_type": "code",
      "source": [
        "# ----- MERIT-Hydro. It contains the \"HAND\" model derived from MERIT-DEM -----\n",
        "hand_data = ee.Image(\"MERIT/Hydro/v1_0_1\").select('hnd')\n",
        "hand_aoi = hand_data.clip(aoi_bbox)"
      ],
      "metadata": {
        "id": "KnnuVuiZ7Cdd"
      },
      "execution_count": 10,
      "outputs": []
    },
    {
      "cell_type": "markdown",
      "source": [
        "**6. JRC permanent water**"
      ],
      "metadata": {
        "id": "sjAqz0JJzYia"
      }
    },
    {
      "cell_type": "code",
      "source": [
        "# ----- Get the JRC permanent water -----\n",
        "# This is to fill the permanent water where can be bright due to surface roughness change, and is falsly considered as non-water\n",
        "jrc_gsw = ee.Image(\"JRC/GSW1_4/GlobalSurfaceWater\").select('transition')\n",
        "jrc_perm_mask = jrc_gsw.eq(1) #.Or(jrc_gsw.eq(8)) \n",
        "jrc_permw_aoi = jrc_gsw.updateMask(jrc_perm_mask).clip(aoi_bbox)\n",
        "\n"
      ],
      "metadata": {
        "id": "MsKeYo8f7CgX"
      },
      "execution_count": 11,
      "outputs": []
    },
    {
      "cell_type": "markdown",
      "source": [
        "**More layers may be added**"
      ],
      "metadata": {
        "id": "0bSWgjPFDXJY"
      }
    },
    {
      "cell_type": "code",
      "source": [],
      "metadata": {
        "id": "DM6nelVazXmY"
      },
      "execution_count": 11,
      "outputs": []
    },
    {
      "cell_type": "code",
      "source": [],
      "metadata": {
        "id": "XlNSpqv87Cjc"
      },
      "execution_count": 11,
      "outputs": []
    },
    {
      "cell_type": "markdown",
      "source": [
        "**Visualize each layer**"
      ],
      "metadata": {
        "id": "SdDycpvMaa1c"
      }
    },
    {
      "cell_type": "code",
      "source": [
        "Map_chk_query = geemap.Map(center=((ymin+ymax)/2, (xmin+xmax)/2), zoom=8)\n",
        "Map_chk_query.addLayer(s1_aoi.select('VV').reduce(ee.Reducer.mean()).select('VV_mean'), {'min':-25, 'max':0, 'palette':['black','white']}, 'Mean_S1_SAR')\n",
        "Map_chk_query.addLayer(dem_aoi, {'min':0,'max':100,'palette':['black','white']}, 'DEM_slope')\n",
        "Map_chk_query.addLayer(slp_aoi, {'min':0,'max':0.2,'palette':['black','white']}, 'DEM_slope')\n",
        "#Map_chk_query.addLayer(apt_aoi, {'min':0,'max':360,'palette':['green','brown','white']}, 'DEM_aspect')\n",
        "#Map_chk_query.addLayer(lulc_aoi, {'min':0,'max':100,'palette':['blue','white']}, 'LULC')\n",
        "Map_chk_query.addLayer(hand_aoi, {'min':0,'max':100,'palette':['blue','white']}, 'HAND')\n",
        "Map_chk_query.addLayer(jrc_permw_aoi,{'min':0,'max':1,'palette':['black','white']},'JRC Perm. Water')\n",
        "Map_chk_query.addLayer(aoi_bbox, {}, 'AOI_bbox')\n",
        "Map_chk_query.addLayerControl()\n",
        "display(Map_chk_query)"
      ],
      "metadata": {
        "colab": {
          "base_uri": "https://localhost:8080/",
          "height": 621,
          "referenced_widgets": [
            "609c2ec4cf9b43e081bd03bc4d44650b",
            "764c903d63c94934826355e1fbf53f45",
            "d169ca7d02ed489682cb069f5a6e5ca1",
            "1b7e74bea5014cd78b5f1f3587c4e45f",
            "2fd0207ffc2542edaa1680c01201f1db",
            "8da89cb84fc04f8a925389f7d2fc946a",
            "ca421f6d3bf64b938ecfdbb544885a8a",
            "3ba896aba95a4682968f00f70b471721",
            "067ea348616a42d690b6a45379459222",
            "580d888c29e841b3b662e182befa7a73",
            "81ae5b5d9ac84aa08227172e60727b47",
            "54d541dd65934153879bb8cb61f65dd5",
            "6969c8172a094554b49443a359713bae",
            "b33a133806e44dc08222bf8648071d3a",
            "8e7a4a6c2b7942eba4852388cd6948aa",
            "ec5460bbe8c14257ba281918834fb283",
            "e67a899a0fe64f218848d519fe0302b2",
            "dd68117b46b44373adbf1c27b5f7b9a0",
            "fbe58d07de8f4a3eb2f7e03949d43ada",
            "d199dc40ad4146398a9e6b73125defe1",
            "580b781e0264425789fbdd50445c506f",
            "03cfb9e3482f4339878ddd97ebbbdc96",
            "de78ce1cef034a12ba7043f5c8d55bee",
            "eaaccdedc22444a7a2e22a714387aa80",
            "ee82aab6bc144e969c32ab9391bb8fd7",
            "87cd888eba154001b734b5a9c6338aea",
            "8cdc2204279e48c7bee34bd893e08163",
            "5829a0df38194d14b22773ba1a6142ac",
            "afb38e2b28814560b17a004b260e3ecc",
            "8d54f57a155a4ab3ab93f2f72439e80d",
            "922f7c9de4f949e386f5e6c5a2e97442"
          ]
        },
        "id": "jutBI7fR7Cme",
        "outputId": "b51e836f-4878-4e37-c4d5-cdcfe986272a"
      },
      "execution_count": 12,
      "outputs": [
        {
          "output_type": "display_data",
          "data": {
            "text/plain": [
              "Map(center=[12.7766, 104.1675], controls=(WidgetControl(options=['position', 'transparent_bg'], widget=HBox(ch…"
            ],
            "application/vnd.jupyter.widget-view+json": {
              "version_major": 2,
              "version_minor": 0,
              "model_id": "609c2ec4cf9b43e081bd03bc4d44650b"
            }
          },
          "metadata": {
            "application/vnd.jupyter.widget-view+json": {
              "colab": {
                "custom_widget_manager": {
                  "url": "https://ssl.gstatic.com/colaboratory-static/widgets/colab-cdn-widget-manager/b3e629b1971e1542/manager.min.js"
                }
              }
            }
          }
        }
      ]
    },
    {
      "cell_type": "code",
      "source": [],
      "metadata": {
        "id": "D9TQWlEuEEXO"
      },
      "execution_count": 12,
      "outputs": []
    },
    {
      "cell_type": "markdown",
      "source": [
        "# Export data to G-Drive as GeoTIFF"
      ],
      "metadata": {
        "id": "2Ivf-ZAEWfQ0"
      }
    },
    {
      "cell_type": "code",
      "source": [
        "# ----- (0: Do not export; 1 export) the images\n",
        "export_s1_opt = 0\n",
        "export_aux_opt = 0\n",
        "\n",
        "res=50 # define spatial resolution of the exported GeoTiff\n",
        "img_prefix = 'TSL'\n",
        "img_suffix = 'VV'\n",
        "s1_export_band = 'VV' #'VV' or 'VH'\n",
        "export_crs = 'EPSG:4326' #Coordinate system of the exported GeoTiff\n",
        "\n",
        "if export_s1_opt:\n",
        "    #hf.geeutils.batch_export(s1_aoi.select(s1_export_band), collection_asset = 'UNet_', region=aoi_bbox, prefix=img_prefix, suffix=img_suffix, scale=res, crs=export_crs, pyramiding=None, export_type='toDrive', folder='UNet_examp_S1_'+str(res).zfill(3)+'m', metadata=None, verbose=False) \n",
        "    batch_export(s1_aoi.select(s1_export_band), collection_asset = 'UNet_', region=aoi_bbox, prefix=img_prefix, suffix=img_suffix, scale=res, crs=export_crs, pyramiding=None, export_type='toDrive', folder='UNet_examp_S1_'+str(res).zfill(3)+'m', metadata=None, verbose=False)\n",
        "else:\n",
        "    print('Users requested not to export Sentinel-1 VV intensity')\n",
        "\n",
        "if export_aux_opt:\n",
        "    hf.geeutils.export_image(slp_aoi, region=aoi_bbox, asset_id=None, description='slope_'+str(res).zfill(3)+'m', scale=res, crs=export_crs, pyramiding=None, export_type='toDrive', folder=None) \n",
        "    hf.geeutils.export_image(lulc_aoi, region=aoi_bbox, asset_id=None, description='lulc_'+str(res).zfill(3)+'m', scale=res, crs=export_crs, pyramiding=None, export_type='toDrive', folder=None) \n",
        "    hf.geeutils.export_image(hand_aoi, region=aoi_bbox, asset_id=None, description='hand_'+str(res).zfill(3)+'m', scale=res, crs=export_crs, pyramiding=None, export_type='toDrive', folder=None) \n",
        "    hf.geeutils.export_image(jrc_permw_aoi, region=aoi_bbox, asset_id=None, description='jrc_permw_'+str(res).zfill(3)+'m', scale=res, crs=export_crs, pyramiding=None, export_type='toDrive', folder=None) \n",
        "    hf.geeutils.export_image(dem_aoi, region=aoi_bbox, asset_id=None, description='dem_'+str(res).zfill(3)+'m', scale=res, crs=export_crs, pyramiding=None, export_type='toDrive', folder=None) \n",
        "else:\n",
        "    print('Users requested not to export auxiliar layers')"
      ],
      "metadata": {
        "id": "06Td5Dv17Csx",
        "colab": {
          "base_uri": "https://localhost:8080/"
        },
        "outputId": "0cf1cf4d-656b-49cf-de09-546d15edd545"
      },
      "execution_count": 13,
      "outputs": [
        {
          "output_type": "stream",
          "name": "stdout",
          "text": [
            "Users requested not to export Sentinel-1 VV intensity\n",
            "Users requested not to export auxiliar layers\n"
          ]
        }
      ]
    },
    {
      "cell_type": "markdown",
      "source": [
        "# Prepare the data"
      ],
      "metadata": {
        "id": "Lk01RnH47BpN"
      }
    },
    {
      "cell_type": "markdown",
      "source": [
        "**IMPORTANT: Need to be aware of the standardization and normalization process**\n",
        "\n",
        "All the input data of the same feature should be standardized/normalized with the same scaling factor and offset. In addition, the new data need to be standardized/normalized with the same scaling factor and offset as well, to make sure the training and predicting input have the same scale"
      ],
      "metadata": {
        "id": "1zeqEYfHItgi"
      }
    },
    {
      "cell_type": "code",
      "source": [
        "# ----- Define the spatial resolution -----\n",
        "res = 100\n",
        "\n",
        "# ----- Path to the data -----\n",
        "indata_path = '/content/drive/MyDrive/UNet/example/'\n",
        "\n",
        "\n",
        "# Read slope\n",
        "in_dem = xr.open_rasterio(indata_path+'dem/dem_'+str(res).zfill(3)+'m.tif').sortby('y',ascending=False).sortby('x',ascending=True).values[0,:,:]\n",
        "\n",
        "# Read slope\n",
        "in_slp = xr.open_rasterio(indata_path+'dem/slope_'+str(res).zfill(3)+'m.tif').sortby('y',ascending=False).sortby('x',ascending=True).values[0,:,:]\n",
        "\n",
        "# Read lulc\n",
        "in_lulc = xr.open_rasterio(indata_path+'lulc/lulc_'+str(res).zfill(3)+'m.tif').sortby('y',ascending=False).sortby('x',ascending=True).values[0,:,:]\n",
        "\n",
        "# Read HAND\n",
        "in_hand = xr.open_rasterio(indata_path+'hand/hand_'+str(res).zfill(3)+'m.tif').sortby('y',ascending=False).sortby('x',ascending=True).values[0,:,:]\n",
        "\n",
        "# Read JRC Perm water\n",
        "in_jrc_permw = xr.open_rasterio(indata_path+'jrc/jrc_permw_'+str(res).zfill(3)+'m.tif').sortby('y',ascending=False).sortby('x',ascending=True).values[0,:,:]\n",
        "\n"
      ],
      "metadata": {
        "id": "ty8sIWZTWhYn"
      },
      "execution_count": 14,
      "outputs": []
    },
    {
      "cell_type": "code",
      "source": [
        "fontdict={'size':14, 'weight':'bold'}\n",
        "\n",
        "fig, axs = plt.subplots(2,2, layout=\"constrained\")\n",
        "im = axs[0,0].imshow(in_dem, interpolation='none', cmap='jet', vmin=0, vmax=30)\n",
        "axs[0,0].set_title('MERIT-DEM', fontdict=fontdict)\n",
        "plt.colorbar(im, ax=axs[0,0])\n",
        "\n",
        "im = axs[0,1].imshow(in_slp, interpolation='none', cmap='jet', vmin=0, vmax=1)\n",
        "axs[0,1].set_title('DEM Slope', fontdict=fontdict)\n",
        "plt.colorbar(im, ax=axs[0,1])\n",
        "\n",
        "im = axs[1,0].imshow(in_hand, interpolation='none', cmap='jet', vmin=0, vmax=30)\n",
        "axs[1,0].set_title('HAND', fontdict=fontdict)\n",
        "plt.colorbar(im, ax=axs[1,0])\n",
        "\n",
        "im = axs[1,1].imshow(in_jrc_permw, interpolation='none', cmap='jet', vmin=0, vmax=1)\n",
        "axs[1,1].set_title('Perm. Water', fontdict=fontdict)\n",
        "plt.colorbar(im, ax=axs[1,1])\n",
        "plt.show()\n",
        "\n",
        "gc.collect()\n",
        "gc.collect()\n",
        "gc.collect()"
      ],
      "metadata": {
        "colab": {
          "base_uri": "https://localhost:8080/",
          "height": 330
        },
        "id": "IHHiGVKb-Y2T",
        "outputId": "123a10be-6e53-4127-b977-5f0fb450cc88"
      },
      "execution_count": 15,
      "outputs": [
        {
          "output_type": "display_data",
          "data": {
            "text/plain": [
              "<Figure size 432x288 with 8 Axes>"
            ],
            "image/png": "[encoded data removed]"
          },
          "metadata": {
            "needs_background": "light"
          }
        },
        {
          "output_type": "execute_result",
          "data": {
            "text/plain": [
              "0"
            ]
          },
          "metadata": {},
          "execution_count": 15
        }
      ]
    },
    {
      "cell_type": "code",
      "source": [
        "# Initialize scaler for different layers\n",
        "scaler_dem = MinMaxScaler()\n",
        "scaler_slp = MinMaxScaler()\n",
        "scaler_lulc = MinMaxScaler()\n",
        "scaler_hand = MinMaxScaler()\n",
        "\n",
        "# Normalize different layers to [0,1] range\n",
        "# Note that sklearn scaler scale the data along axis=0. To scale the entire array, data has to be flattened first\n",
        "spatial_shape = in_dem.shape\n",
        "in_dem = scaler_dem.fit_transform(in_dem.reshape(-1,1)).reshape(spatial_shape) # (dem_in - np.nanmin(dem_in))/(np.nanmax(dem_in)-np.nanmin(dem_in))\n",
        "in_slp = scaler_slp.fit_transform(in_slp.reshape(-1,1)).reshape(spatial_shape) #(slp_in - np.nanmin(slp_in))/(np.nanmax(slp_in)-np.nanmin(slp_in))\n",
        "in_lulc = scaler_lulc.fit_transform(in_lulc.reshape(-1,1)).reshape(spatial_shape) #(lulc_in - np.nanmin(lulc_in))/(np.nanmax(lulc_in)-np.nanmin(lulc_in))\n",
        "in_hand = scaler_hand.fit_transform(in_hand.reshape(-1,1)).reshape(spatial_shape) #(hand_in - np.nanmin(hand_in))/(np.nanmax(hand_in)-np.nanmin(hand_in))\n"
      ],
      "metadata": {
        "id": "-qj855cLsil4"
      },
      "execution_count": 16,
      "outputs": []
    },
    {
      "cell_type": "code",
      "source": [
        "fontdict={'size':14, 'weight':'bold'}\n",
        "\n",
        "fig, axs = plt.subplots(2,2, layout=\"constrained\")\n",
        "im = axs[0,0].imshow(in_dem, interpolation='none', cmap='jet', vmin=0, vmax=1)\n",
        "axs[0,0].set_title('MERIT-DEM', fontdict=fontdict)\n",
        "plt.colorbar(im, ax=axs[0,0])\n",
        "\n",
        "im = axs[0,1].imshow(in_slp, interpolation='none', cmap='jet', vmin=0, vmax=1)\n",
        "axs[0,1].set_title('DEM Slope', fontdict=fontdict)\n",
        "plt.colorbar(im, ax=axs[0,1])\n",
        "\n",
        "im = axs[1,0].imshow(in_hand, interpolation='none', cmap='jet', vmin=0, vmax=1)\n",
        "axs[1,0].set_title('HAND', fontdict=fontdict)\n",
        "plt.colorbar(im, ax=axs[1,0])\n",
        "\n",
        "im = axs[1,1].imshow(in_jrc_permw, interpolation='none', cmap='jet', vmin=0, vmax=1)\n",
        "axs[1,1].set_title('Perm. Water', fontdict=fontdict)\n",
        "plt.colorbar(im, ax=axs[1,1])\n",
        "plt.show()\n",
        "\n",
        "gc.collect()\n",
        "gc.collect()\n",
        "gc.collect()"
      ],
      "metadata": {
        "id": "mrHpgIvMh7-b",
        "colab": {
          "base_uri": "https://localhost:8080/",
          "height": 330
        },
        "outputId": "3de1bc9b-8321-4dfc-ee5d-3cfbda00ee0c"
      },
      "execution_count": 17,
      "outputs": [
        {
          "output_type": "display_data",
          "data": {
            "text/plain": [
              "<Figure size 432x288 with 8 Axes>"
            ],
            "image/png": "[encoded data removed]"
          },
          "metadata": {
            "needs_background": "light"
          }
        },
        {
          "output_type": "execute_result",
          "data": {
            "text/plain": [
              "0"
            ]
          },
          "metadata": {},
          "execution_count": 17
        }
      ]
    },
    {
      "cell_type": "code",
      "source": [],
      "metadata": {
        "id": "TkVs264K2U0V"
      },
      "execution_count": 17,
      "outputs": []
    },
    {
      "cell_type": "code",
      "source": [
        "# Read pre-processed Sentinel-1 images\n",
        "s1_data_path = indata_path+'S1/'+str(res).zfill(3)+'m/A/'\n",
        "\n",
        "# Normalize the data by minimum and maximum. You only need the minimum and maximum of all images of same feature.\n",
        "s1_flist = glob.glob(s1_data_path+'*.tif')\n",
        "\n",
        "all_s1_min = 999999\n",
        "all_s1_max = -999999\n",
        "for s1_fname in s1_flist:\n",
        "    in_s1 = xr.open_rasterio(s1_fname).sortby('y',ascending=False).sortby('x',ascending=True).squeeze().drop('band')\n",
        "    in_s1_max = in_s1.max(dim=['x','y'], skipna=True)\n",
        "    in_s1_min = in_s1.min(dim=['x','y'], skipna=True)\n",
        "    if in_s1_max > all_s1_max:\n",
        "        all_s1_max = in_s1_max\n",
        "    if in_s1_min < all_s1_min:\n",
        "        all_s1_min = in_s1_min  \n",
        "all_s1_max = all_s1_max.values\n",
        "all_s1_min = all_s1_min.values\n",
        "print(all_s1_max, all_s1_min)\n",
        "\n",
        "gc.collect()\n",
        "gc.collect()\n",
        "gc.collect()"
      ],
      "metadata": {
        "colab": {
          "base_uri": "https://localhost:8080/"
        },
        "id": "aRb1Hmd62U3A",
        "outputId": "d0cf55c4-3cc4-40ee-f88f-8de5d70a492f"
      },
      "execution_count": 18,
      "outputs": [
        {
          "output_type": "stream",
          "name": "stdout",
          "text": [
            "20.749968 -92.17071\n"
          ]
        },
        {
          "output_type": "execute_result",
          "data": {
            "text/plain": [
              "0"
            ]
          },
          "metadata": {},
          "execution_count": 18
        }
      ]
    },
    {
      "cell_type": "code",
      "source": [
        "# Function to resize the data to be the multiple of patch size\n",
        "def resize_data(in_img, patch_size):\n",
        "    size_x = (in_img.shape[1]//patch_size)*patch_size\n",
        "    size_y = (in_img.shape[0]//patch_size)*patch_size\n",
        "    out_img = in_img[0:size_y, 0:size_x]\n",
        "    return out_img"
      ],
      "metadata": {
        "id": "syFuVhGI2U5Y"
      },
      "execution_count": 19,
      "outputs": []
    },
    {
      "cell_type": "code",
      "source": [
        "multi_channel_opt = 1\n",
        "\n",
        "patch_size = 256\n",
        "dcube_features_temp = []\n",
        "dcube_labels_temp = []\n",
        "ct_img = 0\n",
        "\n",
        "# ----- A simple threshold to generate training label data (binary flood maps) -----\n",
        "fld_thrd = -16\n",
        "\n",
        "for s1_fname in s1_flist:\n",
        "    \n",
        "    ct_img = ct_img+1\n",
        "    in_s1 = xr.open_rasterio(s1_fname).sortby('y',ascending=False).sortby('x',ascending=True).squeeze().drop('band')\n",
        "    if s1_fname == s1_flist[0]:\n",
        "        lat = in_s1.y\n",
        "        lon = in_s1.x\n",
        "    in_s1 = in_s1.values\n",
        "    \n",
        "    # As an example, I simply use a general threshold value to get Sentinel-1 flood extents which will be used as training label data (1: water, 0: non-water).\n",
        "    # Practically, this threshold has to be refined.\n",
        "    s1_water = np.where(in_s1<fld_thrd, 1, 0)\n",
        "    s1_water = np.where(np.isnan(in_s1),np.nan,s1_water)\n",
        "    \n",
        "    # Resize the image to be the multiple of patch size\n",
        "    in_s1 = resize_data(in_s1, patch_size)\n",
        "    in_slp = resize_data(in_slp, patch_size)\n",
        "    in_lulc = resize_data(in_lulc, patch_size)\n",
        "    in_dem = resize_data(in_dem, patch_size)\n",
        "    in_hand = resize_data(in_hand, patch_size)\n",
        "    in_jrc_permw = resize_data(in_jrc_permw, patch_size)\n",
        "    s1_water = resize_data(s1_water, patch_size)\n",
        "\n",
        "\n",
        "    # Normalize S1 images with the pre-calculated min and max values of all training S1 images    \n",
        "    in_s1 = (in_s1 - all_s1_min)/(all_s1_max - all_s1_min)\n",
        "\n",
        "    # overlay several channels as features\n",
        "    if multi_channel_opt:\n",
        "        in_features = np.concatenate([np.expand_dims(in_s1, axis=-1), np.expand_dims(in_slp, axis=-1)], axis=-1) # Add DEM_Slope\n",
        "        in_features = np.concatenate([in_features, np.expand_dims(in_hand, axis=-1)], axis=-1)                   # Add HAND\n",
        "        in_features[np.any(np.isnan(in_features), axis=-1),:]=np.nan\n",
        "    else:\n",
        "        in_features = in_s1\n",
        "    \n",
        "    # Fill the gappy water extents caused by lake surface roughness on SAR images with JRC perm. water\n",
        "    s1_water[in_jrc_permw==1] = 1\n",
        "\n",
        "    # Generate input patches\n",
        "    patch_features = patchify(in_features, (patch_size,patch_size,in_features.shape[-1]), step=patch_size) # 'step' is the same as 'stride' in convolution\n",
        "    patch_labels = patchify(s1_water, (patch_size,patch_size), step=patch_size)\n",
        "    \n",
        "    del in_features, s1_water\n",
        "    gc.collect()\n",
        "\n",
        "    # Pile up patches\n",
        "    for i in np.arange(patch_features.shape[0]):\n",
        "        for j in np.arange(patch_features.shape[1]):\n",
        "            if multi_channel_opt:\n",
        "                single_patch_features = patch_features[i,j,:,:][0]\n",
        "            else:\n",
        "                single_patch_features = patch_features[i,j,:,:]\n",
        "            single_patch_labels = patch_labels[i,j,:,:]\n",
        "          \n",
        "            dcube_features_temp.append(single_patch_features)\n",
        "            dcube_labels_temp.append(single_patch_labels)\n",
        "print(ct_img)\n",
        "gc.collect()\n",
        "\n",
        "# Reshape the piled-up data to be a data cube (patch, X, Y)\n",
        "dcube_features_temp = np.array(dcube_features_temp)\n",
        "dcube_labels_temp = np.array(dcube_labels_temp)\n",
        "\n",
        "\n",
        "# Check if piled data cube has correct dimension\n",
        "if ((lat.shape[0]//patch_size)*(lon.shape[0]//patch_size)*len(s1_flist) == dcube_features_temp.shape[0]):\n",
        "    print('Data cube dimension is correct. You can proceed')\n",
        "    del patch_features, patch_labels, single_patch_features, single_patch_labels\n",
        "    gc.collect()     \n",
        "    gc.collect()\n",
        "else:\n",
        "    print('Data cube dimension is wrong, please carefully check your data first')\n"
      ],
      "metadata": {
        "id": "ZBzPS4py7Cv5",
        "colab": {
          "base_uri": "https://localhost:8080/"
        },
        "outputId": "1fac6320-350b-4343-abf9-c4cff4e46fc7"
      },
      "execution_count": 20,
      "outputs": [
        {
          "output_type": "stream",
          "name": "stdout",
          "text": [
            "78\n",
            "Data cube dimension is correct. You can proceed\n"
          ]
        }
      ]
    },
    {
      "cell_type": "code",
      "source": [
        "# Patch refinement\n",
        "# - Only retain patches that have no NaN pixels, and patches with inundated pixels > 10%\n",
        "slice_retain = []\n",
        "for k in np.arange(dcube_labels_temp.shape[0]):\n",
        "    if np.count_nonzero(np.isnan(dcube_labels_temp[k]))==0 and np.count_nonzero(dcube_labels_temp[k])*100/(patch_size**2) > 30:\n",
        "        slice_retain.append(k)        \n",
        "slice_retain = np.array(slice_retain)\n",
        "\n",
        "image_dataset = dcube_features_temp[slice_retain]\n",
        "mask_dataset = dcube_labels_temp[slice_retain]\n",
        "\n",
        "del dcube_features_temp, dcube_labels_temp\n",
        "gc.collect()"
      ],
      "metadata": {
        "id": "0MeBI0WV1Bvd",
        "colab": {
          "base_uri": "https://localhost:8080/"
        },
        "outputId": "ec797fde-70f2-4007-d8af-fb3bc414367b"
      },
      "execution_count": 21,
      "outputs": [
        {
          "output_type": "execute_result",
          "data": {
            "text/plain": [
              "0"
            ]
          },
          "metadata": {},
          "execution_count": 21
        }
      ]
    },
    {
      "cell_type": "code",
      "source": [
        "# Check data size\n",
        "image_dataset.shape, mask_dataset.shape"
      ],
      "metadata": {
        "colab": {
          "base_uri": "https://localhost:8080/"
        },
        "id": "lI4UZakWkrE1",
        "outputId": "69ad03e8-1acb-40b1-b60d-f64a207afe68"
      },
      "execution_count": 22,
      "outputs": [
        {
          "output_type": "execute_result",
          "data": {
            "text/plain": [
              "((520, 256, 256, 3), (520, 256, 256))"
            ]
          },
          "metadata": {},
          "execution_count": 22
        }
      ]
    },
    {
      "cell_type": "code",
      "source": [
        "# Inspect if patches look reasonable\n",
        "import random\n",
        "\n",
        "fontdict={'size':14, 'weight':'bold'}\n",
        "\n",
        "npatch = random.randint(0, len(image_dataset)-1)\n",
        "print('# Patch:', npatch)\n",
        "\n",
        "fig, axs = plt.subplots(2, 2, layout='constrained')\n",
        "im = axs[0,0].imshow(image_dataset[npatch][:,:,0], interpolation='none', vmin=0, vmax=1, cmap='gray')\n",
        "axs[0,0].set_title('Sentinel-1 VV', fontdict=fontdict)\n",
        "fig.colorbar(im, ax=axs[0,0])\n",
        "im = axs[0,1].imshow(image_dataset[npatch][:,:,1], interpolation='none', vmin=0, vmax=.05, cmap='gray')\n",
        "axs[0,1].set_title('DEM slope', fontdict=fontdict)\n",
        "fig.colorbar(im, ax=axs[1,0])\n",
        "im = axs[1,0].imshow(image_dataset[npatch][:,:,2], interpolation='none', vmin=0, vmax=.05, cmap='gray')\n",
        "axs[1,0].set_title('HAND', fontdict=fontdict)\n",
        "fig.colorbar(im, ax=axs[0,1])\n",
        "im = axs[1,1].imshow(mask_dataset[npatch][:,:], interpolation='none', vmin=0, vmax=1, cmap='gray')\n",
        "axs[1,1].set_title('Flood extents', fontdict=fontdict)\n",
        "fig.colorbar(im, ax=axs[1,1])\n",
        "plt.show()"
      ],
      "metadata": {
        "id": "yYyaOs997Cy8",
        "colab": {
          "base_uri": "https://localhost:8080/",
          "height": 330
        },
        "outputId": "8432ab0c-32e3-4849-9d52-4362f84b9d7e"
      },
      "execution_count": 23,
      "outputs": [
        {
          "output_type": "stream",
          "name": "stdout",
          "text": [
            "# Patch: 35\n"
          ]
        },
        {
          "output_type": "display_data",
          "data": {
            "text/plain": [
              "<Figure size 432x288 with 8 Axes>"
            ],
            "image/png": "[encoded data removed]"
          },
          "metadata": {
            "needs_background": "light"
          }
        }
      ]
    },
    {
      "cell_type": "code",
      "source": [
        "mask_dataset.shape"
      ],
      "metadata": {
        "id": "Cw5bBnMZ7C7v",
        "colab": {
          "base_uri": "https://localhost:8080/"
        },
        "outputId": "fa5d04fd-1b20-449b-ffc4-9d50ca2b67fa"
      },
      "execution_count": 24,
      "outputs": [
        {
          "output_type": "execute_result",
          "data": {
            "text/plain": [
              "(520, 256, 256)"
            ]
          },
          "metadata": {},
          "execution_count": 24
        }
      ]
    },
    {
      "cell_type": "markdown",
      "source": [
        "**Split data into training and test sets**"
      ],
      "metadata": {
        "id": "q7iS9iu3rwA1"
      }
    },
    {
      "cell_type": "code",
      "source": [
        "from keras.utils import to_categorical\n",
        "# Create an array with 'class' as the last dimension based on the label data\n",
        "# For example, for the case of binary label, the output will have dimension: (patch_size, patch_size, n_classes)\n",
        "# [x, y, :] = [1,0] or [0,1]\n",
        "\n",
        "from sklearn.model_selection import train_test_split\n",
        "\n",
        "\n",
        "# Get training and test data ready\n",
        "if multi_channel_opt:\n",
        "    features = image_dataset\n",
        "else:\n",
        "    features = np.expand_dims(image_dataset, axis=3)\n",
        "labels = mask_dataset\n",
        "\n",
        "n_classes = 1 # Binary segmentation\n",
        "if n_classes==1:\n",
        "    labels_cat = np.expand_dims(labels, axis=3)\n",
        "else:\n",
        "    labels_cat = to_categorical(labels, num_classes=n_classes)    \n",
        "\n",
        "# Set 80% of data as training data; 20% of data as test data\n",
        "x_train, x_test, y_train, y_test = train_test_split(features, labels_cat, test_size = 0.20, random_state = 42)\n"
      ],
      "metadata": {
        "id": "gmmJ8NSa7C-6"
      },
      "execution_count": 32,
      "outputs": []
    },
    {
      "cell_type": "code",
      "source": [
        "x_train.shape"
      ],
      "metadata": {
        "id": "6ErprLBg7DEM",
        "colab": {
          "base_uri": "https://localhost:8080/"
        },
        "outputId": "fc730534-703f-488d-f018-19bd4a3fa400"
      },
      "execution_count": 33,
      "outputs": [
        {
          "output_type": "execute_result",
          "data": {
            "text/plain": [
              "(416, 256, 256, 3)"
            ]
          },
          "metadata": {},
          "execution_count": 33
        }
      ]
    },
    {
      "cell_type": "markdown",
      "source": [
        "**Data augmentation by flipping the training set**"
      ],
      "metadata": {
        "id": "cGEoVlxlsejW"
      }
    },
    {
      "cell_type": "code",
      "source": [
        "data_aug_opt=1\n",
        "if data_aug_opt:\n",
        "\n",
        "    # Vertically flip the features and labels\n",
        "    Vx = [np.flip(x, axis=0) for x in x_train]\n",
        "    Vy = [np.flip(x, axis=0) for x in y_train]\n",
        "\n",
        "    ## Horizontally flip the features and labels\n",
        "    Hx = [np.flip(x, axis=1) for x in x_train]\n",
        "    Hy = [np.flip(x, axis=1) for x in y_train]\n",
        "\n",
        "    ## Horizontally and Vertically flip the features and labels\n",
        "    #HVx = [np.flip(x, axis=1) for x in Vx]\n",
        "    #HVy = [np.flip(x, axis=1) for x in Vy]\n",
        "\n",
        "    ## Append the flipped images and masks to the original training data\n",
        "    x_train = np.append(x_train, Vx, axis=0)\n",
        "    y_train = np.append(y_train, Vy, axis=0)\n",
        "\n",
        "    x_train = np.append(x_train, Hx, axis=0)\n",
        "    y_train = np.append(y_train, Hy, axis=0)\n",
        "\n",
        "    #x_train = np.append(x_train, HVx, axis=0)\n",
        "    #y_train = np.append(y_train, HVy, axis=0)"
      ],
      "metadata": {
        "id": "SsVNvk3zsexJ"
      },
      "execution_count": 34,
      "outputs": []
    },
    {
      "cell_type": "code",
      "source": [
        "x_train.shape, y_train.shape"
      ],
      "metadata": {
        "colab": {
          "base_uri": "https://localhost:8080/"
        },
        "id": "W-krm2Qqse4n",
        "outputId": "72aad772-1703-4498-d8e3-e6209305cc40"
      },
      "execution_count": 35,
      "outputs": [
        {
          "output_type": "execute_result",
          "data": {
            "text/plain": [
              "((1248, 256, 256, 3), (1248, 256, 256, 1))"
            ]
          },
          "metadata": {},
          "execution_count": 35
        }
      ]
    },
    {
      "cell_type": "code",
      "source": [],
      "metadata": {
        "id": "3y3wZe9Y7DHC"
      },
      "execution_count": 28,
      "outputs": []
    },
    {
      "cell_type": "markdown",
      "source": [
        "# Construct the UNet\n"
      ],
      "metadata": {
        "id": "WtM2Vp4S1-BV"
      }
    },
    {
      "cell_type": "markdown",
      "source": [
        "**Import TensorFlow for machine learning**"
      ],
      "metadata": {
        "id": "n3pkDZ5MKGYk"
      }
    },
    {
      "cell_type": "code",
      "source": [
        "import tensorflow as tf\n",
        "from tensorflow.python.client import device_lib\n",
        "\n",
        "# ----- Check if GPU exists -----\n",
        "print(tf.test.gpu_device_name())\n",
        "device_lib.list_local_devices()"
      ],
      "metadata": {
        "colab": {
          "base_uri": "https://localhost:8080/"
        },
        "id": "5GoJ9xLjr_u_",
        "outputId": "57df181c-0ed6-4c0e-a77f-34ac3a1ecdd5"
      },
      "execution_count": 36,
      "outputs": [
        {
          "output_type": "stream",
          "name": "stdout",
          "text": [
            "/device:GPU:0\n"
          ]
        },
        {
          "output_type": "execute_result",
          "data": {
            "text/plain": [
              "[name: \"/device:CPU:0\"\n",
              " device_type: \"CPU\"\n",
              " memory_limit: 268435456\n",
              " locality {\n",
              " }\n",
              " incarnation: 7646536987286710312\n",
              " xla_global_id: -1, name: \"/device:GPU:0\"\n",
              " device_type: \"GPU\"\n",
              " memory_limit: 40154759168\n",
              " locality {\n",
              "   bus_id: 1\n",
              "   links {\n",
              "   }\n",
              " }\n",
              " incarnation: 11348164735033110148\n",
              " physical_device_desc: \"device: 0, name: NVIDIA A100-SXM4-40GB, pci bus id: 0000:00:04.0, compute capability: 8.0\"\n",
              " xla_global_id: 416903419]"
            ]
          },
          "metadata": {},
          "execution_count": 36
        }
      ]
    },
    {
      "cell_type": "markdown",
      "source": [
        "**Define the UNet model**\n",
        "\n"
      ],
      "metadata": {
        "id": "_y4ije4Dl0Lu"
      }
    },
    {
      "cell_type": "code",
      "source": [
        "# Define the model\n",
        "from keras.models import Model\n",
        "from keras.layers import Input, Conv2D, MaxPool2D, UpSampling2D, Concatenate, Conv2DTranspose, BatchNormalization, Dropout, Lambda, Activation\n",
        "from keras.optimizers import Adam\n",
        "\n",
        "def conv_block(input, num_filters):\n",
        "    x = Conv2D(num_filters, 3, kernel_initializer='he_normal', padding='same')(input)\n",
        "    x = BatchNormalization()(x)\n",
        "    #x = Dropout(0.2)(x) \n",
        "    x = Activation('relu')(x)\n",
        "    \n",
        "    x = Conv2D(num_filters, 3, kernel_initializer='he_normal', padding='same')(x)\n",
        "    x = BatchNormalization()(x)\n",
        "    #x = Dropout(0.2)(x) \n",
        "    x = Activation('relu')(x)\n",
        "    return x\n",
        "\n",
        "def encoder_block(input, num_filters):\n",
        "    x = conv_block(input, num_filters)\n",
        "    p = MaxPool2D((2,2))(x)\n",
        "    return x, p\n",
        "\n",
        "def decoder_block(input, skip_features, num_filters):\n",
        "    x = Conv2DTranspose(num_filters, (2,2), strides=2, padding='same')(input)\n",
        "    x = Concatenate()([x, skip_features])\n",
        "    x = conv_block(x, num_filters)\n",
        "    return x\n",
        "\n",
        "\n",
        "################################################################\n",
        "def simple_unet_model(n_classes=1, IMG_HEIGHT=256, IMG_WIDTH=256, IMG_CHANNELS=1):\n",
        "    #Build the model\n",
        "\n",
        "    if n_classes==1:\n",
        "        out_act_func = 'sigmoid' \n",
        "    else:\n",
        "        out_act_func = 'softmax'\n",
        "\n",
        "    inputs = Input((IMG_HEIGHT, IMG_WIDTH, IMG_CHANNELS))\n",
        "\n",
        "    #Contraction path\n",
        "    s1, p1 = encoder_block(inputs, 64)\n",
        "    s2, p2 = encoder_block(p1, 128)\n",
        "    s3, p3 = encoder_block(p2, 256)\n",
        "    s4, p4 = encoder_block(p3, 512)\n",
        "\n",
        "    #Bridge\n",
        "    b1 = conv_block(p4, 1024)   \n",
        "    \n",
        "    #Expansive path \n",
        "    d1 = decoder_block(b1, s4, 512)\n",
        "    d2 = decoder_block(d1, s3, 256)\n",
        "    d3 = decoder_block(d2, s2, 128)\n",
        "    d4 = decoder_block(d3, s1, 64)\n",
        "     \n",
        "    outputs = Conv2D(n_classes, 1, padding='same', activation=out_act_func)(d4)\n",
        "     \n",
        "    model = Model(inputs=[inputs], outputs=[outputs], name='U-Net')  \n",
        "    \n",
        "    return model\n",
        " "
      ],
      "metadata": {
        "id": "gqf94wdTzw9Z"
      },
      "execution_count": 37,
      "outputs": []
    },
    {
      "cell_type": "code",
      "source": [
        "gc.collect()"
      ],
      "metadata": {
        "id": "1CwDp4YUmFUK",
        "colab": {
          "base_uri": "https://localhost:8080/"
        },
        "outputId": "77f185a1-05e7-4b0b-e5c2-f3703dc0851e"
      },
      "execution_count": 33,
      "outputs": [
        {
          "output_type": "execute_result",
          "data": {
            "text/plain": [
              "0"
            ]
          },
          "metadata": {},
          "execution_count": 33
        }
      ]
    },
    {
      "cell_type": "markdown",
      "source": [
        "**Train the UNet model**"
      ],
      "metadata": {
        "id": "MR2XITWxmFeU"
      }
    },
    {
      "cell_type": "code",
      "source": [
        "from keras.callbacks import EarlyStopping, ModelCheckpoint\n",
        "\n",
        "# ----- Set up early stopping -----\n",
        "callback = EarlyStopping(monitor='val_loss', patience=10)\n"
      ],
      "metadata": {
        "id": "IKOPxNLk7rjW"
      },
      "execution_count": 38,
      "outputs": []
    },
    {
      "cell_type": "code",
      "source": [
        "from keras import backend\n",
        "from keras.metrics import MeanIoU\n",
        "\n",
        "backend.clear_session()\n",
        "\n",
        "# ----- Get the dimension of training data -----\n",
        "IMG_HEIGHT = x_train.shape[1]\n",
        "IMG_WIDTH  = x_train.shape[2]\n",
        "IMG_CHANNELS = x_train.shape[3]\n",
        "\n",
        "# ----- Define and compile the model -----\n",
        "model = simple_unet_model(n_classes=n_classes, IMG_HEIGHT=IMG_HEIGHT, IMG_WIDTH=IMG_WIDTH, IMG_CHANNELS=IMG_CHANNELS)\n",
        "if n_classes==1:  \n",
        "    model.compile(optimizer=Adam(learning_rate=1e-3), loss='binary_crossentropy',  metrics=['accuracy'])\n",
        "else:\n",
        "    model.compile(optimizer=Adam(learning_rate=1e-3), loss='categorical_crossentropy', metrics=['accuracy'])\n",
        "model.summary()\n",
        "\n",
        "# ----- Assign output model name -----\n",
        "out_model_name = '/content/drive/MyDrive/UNet/example/trained_unet_'+str(res).zfill(3)+'m_ch'+str(IMG_CHANNELS).zfill(2)+'.hdf5'\n",
        "history1 = model.fit(x_train, y_train, \n",
        "                    batch_size = 32, \n",
        "                    verbose=1, \n",
        "                    epochs=1000, \n",
        "                    validation_data=(x_test, y_test),\n",
        "                    callbacks=[callback, ModelCheckpoint(filepath=out_model_name, monitor='val_loss', save_best_only=True)], \n",
        "                    shuffle=False)\n"
      ],
      "metadata": {
        "colab": {
          "base_uri": "https://localhost:8080/"
        },
        "id": "-kd0MKlnkRX7",
        "outputId": "db8ef6e7-6b5c-4505-e53c-dbb3b4e10460"
      },
      "execution_count": 39,
      "outputs": [
        {
          "output_type": "stream",
          "name": "stdout",
          "text": [
            "Model: \"U-Net\"\n",
            "__________________________________________________________________________________________________\n",
            " Layer (type)                   Output Shape         Param #     Connected to                     \n",
            "==================================================================================================\n",
            " input_1 (InputLayer)           [(None, 256, 256, 3  0           []                               \n",
            "                                )]                                                                \n",
            "                                                                                                  \n",
            " conv2d (Conv2D)                (None, 256, 256, 64  1792        ['input_1[0][0]']                \n",
            "                                )                                                                 \n",
            "                                                                                                  \n",
            " batch_normalization (BatchNorm  (None, 256, 256, 64  256        ['conv2d[0][0]']                 \n",
            " alization)                     )                                                                 \n",
            "                                                                                                  \n",
            " activation (Activation)        (None, 256, 256, 64  0           ['batch_normalization[0][0]']    \n",
            "                                )                                                                 \n",
            "                                                                                                  \n",
            " conv2d_1 (Conv2D)              (None, 256, 256, 64  36928       ['activation[0][0]']             \n",
            "                                )                                                                 \n",
            "                                                                                                  \n",
            " batch_normalization_1 (BatchNo  (None, 256, 256, 64  256        ['conv2d_1[0][0]']               \n",
            " rmalization)                   )                                                                 \n",
            "                                                                                                  \n",
            " activation_1 (Activation)      (None, 256, 256, 64  0           ['batch_normalization_1[0][0]']  \n",
            "                                )                                                                 \n",
            "                                                                                                  \n",
            " max_pooling2d (MaxPooling2D)   (None, 128, 128, 64  0           ['activation_1[0][0]']           \n",
            "                                )                                                                 \n",
            "                                                                                                  \n",
            " conv2d_2 (Conv2D)              (None, 128, 128, 12  73856       ['max_pooling2d[0][0]']          \n",
            "                                8)                                                                \n",
            "                                                                                                  \n",
            " batch_normalization_2 (BatchNo  (None, 128, 128, 12  512        ['conv2d_2[0][0]']               \n",
            " rmalization)                   8)                                                                \n",
            "                                                                                                  \n",
            " activation_2 (Activation)      (None, 128, 128, 12  0           ['batch_normalization_2[0][0]']  \n",
            "                                8)                                                                \n",
            "                                                                                                  \n",
            " conv2d_3 (Conv2D)              (None, 128, 128, 12  147584      ['activation_2[0][0]']           \n",
            "                                8)                                                                \n",
            "                                                                                                  \n",
            " batch_normalization_3 (BatchNo  (None, 128, 128, 12  512        ['conv2d_3[0][0]']               \n",
            " rmalization)                   8)                                                                \n",
            "                                                                                                  \n",
            " activation_3 (Activation)      (None, 128, 128, 12  0           ['batch_normalization_3[0][0]']  \n",
            "                                8)                                                                \n",
            "                                                                                                  \n",
            " max_pooling2d_1 (MaxPooling2D)  (None, 64, 64, 128)  0          ['activation_3[0][0]']           \n",
            "                                                                                                  \n",
            " conv2d_4 (Conv2D)              (None, 64, 64, 256)  295168      ['max_pooling2d_1[0][0]']        \n",
            "                                                                                                  \n",
            " batch_normalization_4 (BatchNo  (None, 64, 64, 256)  1024       ['conv2d_4[0][0]']               \n",
            " rmalization)                                                                                     \n",
            "                                                                                                  \n",
            " activation_4 (Activation)      (None, 64, 64, 256)  0           ['batch_normalization_4[0][0]']  \n",
            "                                                                                                  \n",
            " conv2d_5 (Conv2D)              (None, 64, 64, 256)  590080      ['activation_4[0][0]']           \n",
            "                                                                                                  \n",
            " batch_normalization_5 (BatchNo  (None, 64, 64, 256)  1024       ['conv2d_5[0][0]']               \n",
            " rmalization)                                                                                     \n",
            "                                                                                                  \n",
            " activation_5 (Activation)      (None, 64, 64, 256)  0           ['batch_normalization_5[0][0]']  \n",
            "                                                                                                  \n",
            " max_pooling2d_2 (MaxPooling2D)  (None, 32, 32, 256)  0          ['activation_5[0][0]']           \n",
            "                                                                                                  \n",
            " conv2d_6 (Conv2D)              (None, 32, 32, 512)  1180160     ['max_pooling2d_2[0][0]']        \n",
            "                                                                                                  \n",
            " batch_normalization_6 (BatchNo  (None, 32, 32, 512)  2048       ['conv2d_6[0][0]']               \n",
            " rmalization)                                                                                     \n",
            "                                                                                                  \n",
            " activation_6 (Activation)      (None, 32, 32, 512)  0           ['batch_normalization_6[0][0]']  \n",
            "                                                                                                  \n",
            " conv2d_7 (Conv2D)              (None, 32, 32, 512)  2359808     ['activation_6[0][0]']           \n",
            "                                                                                                  \n",
            " batch_normalization_7 (BatchNo  (None, 32, 32, 512)  2048       ['conv2d_7[0][0]']               \n",
            " rmalization)                                                                                     \n",
            "                                                                                                  \n",
            " activation_7 (Activation)      (None, 32, 32, 512)  0           ['batch_normalization_7[0][0]']  \n",
            "                                                                                                  \n",
            " max_pooling2d_3 (MaxPooling2D)  (None, 16, 16, 512)  0          ['activation_7[0][0]']           \n",
            "                                                                                                  \n",
            " conv2d_8 (Conv2D)              (None, 16, 16, 1024  4719616     ['max_pooling2d_3[0][0]']        \n",
            "                                )                                                                 \n",
            "                                                                                                  \n",
            " batch_normalization_8 (BatchNo  (None, 16, 16, 1024  4096       ['conv2d_8[0][0]']               \n",
            " rmalization)                   )                                                                 \n",
            "                                                                                                  \n",
            " activation_8 (Activation)      (None, 16, 16, 1024  0           ['batch_normalization_8[0][0]']  \n",
            "                                )                                                                 \n",
            "                                                                                                  \n",
            " conv2d_9 (Conv2D)              (None, 16, 16, 1024  9438208     ['activation_8[0][0]']           \n",
            "                                )                                                                 \n",
            "                                                                                                  \n",
            " batch_normalization_9 (BatchNo  (None, 16, 16, 1024  4096       ['conv2d_9[0][0]']               \n",
            " rmalization)                   )                                                                 \n",
            "                                                                                                  \n",
            " activation_9 (Activation)      (None, 16, 16, 1024  0           ['batch_normalization_9[0][0]']  \n",
            "                                )                                                                 \n",
            "                                                                                                  \n",
            " conv2d_transpose (Conv2DTransp  (None, 32, 32, 512)  2097664    ['activation_9[0][0]']           \n",
            " ose)                                                                                             \n",
            "                                                                                                  \n",
            " concatenate (Concatenate)      (None, 32, 32, 1024  0           ['conv2d_transpose[0][0]',       \n",
            "                                )                                 'activation_7[0][0]']           \n",
            "                                                                                                  \n",
            " conv2d_10 (Conv2D)             (None, 32, 32, 512)  4719104     ['concatenate[0][0]']            \n",
            "                                                                                                  \n",
            " batch_normalization_10 (BatchN  (None, 32, 32, 512)  2048       ['conv2d_10[0][0]']              \n",
            " ormalization)                                                                                    \n",
            "                                                                                                  \n",
            " activation_10 (Activation)     (None, 32, 32, 512)  0           ['batch_normalization_10[0][0]'] \n",
            "                                                                                                  \n",
            " conv2d_11 (Conv2D)             (None, 32, 32, 512)  2359808     ['activation_10[0][0]']          \n",
            "                                                                                                  \n",
            " batch_normalization_11 (BatchN  (None, 32, 32, 512)  2048       ['conv2d_11[0][0]']              \n",
            " ormalization)                                                                                    \n",
            "                                                                                                  \n",
            " activation_11 (Activation)     (None, 32, 32, 512)  0           ['batch_normalization_11[0][0]'] \n",
            "                                                                                                  \n",
            " conv2d_transpose_1 (Conv2DTran  (None, 64, 64, 256)  524544     ['activation_11[0][0]']          \n",
            " spose)                                                                                           \n",
            "                                                                                                  \n",
            " concatenate_1 (Concatenate)    (None, 64, 64, 512)  0           ['conv2d_transpose_1[0][0]',     \n",
            "                                                                  'activation_5[0][0]']           \n",
            "                                                                                                  \n",
            " conv2d_12 (Conv2D)             (None, 64, 64, 256)  1179904     ['concatenate_1[0][0]']          \n",
            "                                                                                                  \n",
            " batch_normalization_12 (BatchN  (None, 64, 64, 256)  1024       ['conv2d_12[0][0]']              \n",
            " ormalization)                                                                                    \n",
            "                                                                                                  \n",
            " activation_12 (Activation)     (None, 64, 64, 256)  0           ['batch_normalization_12[0][0]'] \n",
            "                                                                                                  \n",
            " conv2d_13 (Conv2D)             (None, 64, 64, 256)  590080      ['activation_12[0][0]']          \n",
            "                                                                                                  \n",
            " batch_normalization_13 (BatchN  (None, 64, 64, 256)  1024       ['conv2d_13[0][0]']              \n",
            " ormalization)                                                                                    \n",
            "                                                                                                  \n",
            " activation_13 (Activation)     (None, 64, 64, 256)  0           ['batch_normalization_13[0][0]'] \n",
            "                                                                                                  \n",
            " conv2d_transpose_2 (Conv2DTran  (None, 128, 128, 12  131200     ['activation_13[0][0]']          \n",
            " spose)                         8)                                                                \n",
            "                                                                                                  \n",
            " concatenate_2 (Concatenate)    (None, 128, 128, 25  0           ['conv2d_transpose_2[0][0]',     \n",
            "                                6)                                'activation_3[0][0]']           \n",
            "                                                                                                  \n",
            " conv2d_14 (Conv2D)             (None, 128, 128, 12  295040      ['concatenate_2[0][0]']          \n",
            "                                8)                                                                \n",
            "                                                                                                  \n",
            " batch_normalization_14 (BatchN  (None, 128, 128, 12  512        ['conv2d_14[0][0]']              \n",
            " ormalization)                  8)                                                                \n",
            "                                                                                                  \n",
            " activation_14 (Activation)     (None, 128, 128, 12  0           ['batch_normalization_14[0][0]'] \n",
            "                                8)                                                                \n",
            "                                                                                                  \n",
            " conv2d_15 (Conv2D)             (None, 128, 128, 12  147584      ['activation_14[0][0]']          \n",
            "                                8)                                                                \n",
            "                                                                                                  \n",
            " batch_normalization_15 (BatchN  (None, 128, 128, 12  512        ['conv2d_15[0][0]']              \n",
            " ormalization)                  8)                                                                \n",
            "                                                                                                  \n",
            " activation_15 (Activation)     (None, 128, 128, 12  0           ['batch_normalization_15[0][0]'] \n",
            "                                8)                                                                \n",
            "                                                                                                  \n",
            " conv2d_transpose_3 (Conv2DTran  (None, 256, 256, 64  32832      ['activation_15[0][0]']          \n",
            " spose)                         )                                                                 \n",
            "                                                                                                  \n",
            " concatenate_3 (Concatenate)    (None, 256, 256, 12  0           ['conv2d_transpose_3[0][0]',     \n",
            "                                8)                                'activation_1[0][0]']           \n",
            "                                                                                                  \n",
            " conv2d_16 (Conv2D)             (None, 256, 256, 64  73792       ['concatenate_3[0][0]']          \n",
            "                                )                                                                 \n",
            "                                                                                                  \n",
            " batch_normalization_16 (BatchN  (None, 256, 256, 64  256        ['conv2d_16[0][0]']              \n",
            " ormalization)                  )                                                                 \n",
            "                                                                                                  \n",
            " activation_16 (Activation)     (None, 256, 256, 64  0           ['batch_normalization_16[0][0]'] \n",
            "                                )                                                                 \n",
            "                                                                                                  \n",
            " conv2d_17 (Conv2D)             (None, 256, 256, 64  36928       ['activation_16[0][0]']          \n",
            "                                )                                                                 \n",
            "                                                                                                  \n",
            " batch_normalization_17 (BatchN  (None, 256, 256, 64  256        ['conv2d_17[0][0]']              \n",
            " ormalization)                  )                                                                 \n",
            "                                                                                                  \n",
            " activation_17 (Activation)     (None, 256, 256, 64  0           ['batch_normalization_17[0][0]'] \n",
            "                                )                                                                 \n",
            "                                                                                                  \n",
            " conv2d_18 (Conv2D)             (None, 256, 256, 1)  65          ['activation_17[0][0]']          \n",
            "                                                                                                  \n",
            "==================================================================================================\n",
            "Total params: 31,055,297\n",
            "Trainable params: 31,043,521\n",
            "Non-trainable params: 11,776\n",
            "__________________________________________________________________________________________________\n",
            "Epoch 1/1000\n",
            "39/39 [==============================] - 34s 465ms/step - loss: 0.1435 - accuracy: 0.9437 - val_loss: 116.7922 - val_accuracy: 0.4302\n",
            "Epoch 2/1000\n",
            "39/39 [==============================] - 10s 259ms/step - loss: 0.0734 - accuracy: 0.9763 - val_loss: 26.0693 - val_accuracy: 0.5446\n",
            "Epoch 3/1000\n",
            "39/39 [==============================] - 10s 259ms/step - loss: 0.0685 - accuracy: 0.9775 - val_loss: 2.1847 - val_accuracy: 0.4840\n",
            "Epoch 4/1000\n",
            "39/39 [==============================] - 9s 228ms/step - loss: 0.0577 - accuracy: 0.9807 - val_loss: 73.2045 - val_accuracy: 0.5786\n",
            "Epoch 5/1000\n",
            "39/39 [==============================] - 9s 229ms/step - loss: 0.0531 - accuracy: 0.9826 - val_loss: 9.8311 - val_accuracy: 0.5764\n",
            "Epoch 6/1000\n",
            "39/39 [==============================] - 12s 307ms/step - loss: 0.0392 - accuracy: 0.9866 - val_loss: 1.9492 - val_accuracy: 0.6765\n",
            "Epoch 7/1000\n",
            "39/39 [==============================] - 10s 256ms/step - loss: 0.0443 - accuracy: 0.9848 - val_loss: 1.3473 - val_accuracy: 0.5687\n",
            "Epoch 8/1000\n",
            "39/39 [==============================] - 10s 257ms/step - loss: 0.0382 - accuracy: 0.9865 - val_loss: 0.1629 - val_accuracy: 0.9222\n",
            "Epoch 9/1000\n",
            "39/39 [==============================] - 10s 256ms/step - loss: 0.0317 - accuracy: 0.9889 - val_loss: 0.1135 - val_accuracy: 0.9492\n",
            "Epoch 10/1000\n",
            "39/39 [==============================] - 9s 228ms/step - loss: 0.0300 - accuracy: 0.9894 - val_loss: 0.1169 - val_accuracy: 0.9447\n",
            "Epoch 11/1000\n",
            "39/39 [==============================] - 9s 230ms/step - loss: 0.0288 - accuracy: 0.9896 - val_loss: 0.1728 - val_accuracy: 0.9380\n",
            "Epoch 12/1000\n",
            "39/39 [==============================] - 12s 303ms/step - loss: 0.0284 - accuracy: 0.9897 - val_loss: 0.1000 - val_accuracy: 0.9584\n",
            "Epoch 13/1000\n",
            "39/39 [==============================] - 10s 257ms/step - loss: 0.0270 - accuracy: 0.9901 - val_loss: 0.0536 - val_accuracy: 0.9761\n",
            "Epoch 14/1000\n",
            "39/39 [==============================] - 9s 228ms/step - loss: 0.0259 - accuracy: 0.9905 - val_loss: 0.1775 - val_accuracy: 0.9509\n",
            "Epoch 15/1000\n",
            "39/39 [==============================] - 9s 228ms/step - loss: 0.0255 - accuracy: 0.9905 - val_loss: 0.1409 - val_accuracy: 0.9642\n",
            "Epoch 16/1000\n",
            "39/39 [==============================] - 9s 229ms/step - loss: 0.0290 - accuracy: 0.9897 - val_loss: 3.5684 - val_accuracy: 0.6562\n",
            "Epoch 17/1000\n",
            "39/39 [==============================] - 9s 229ms/step - loss: 0.0358 - accuracy: 0.9875 - val_loss: 0.2192 - val_accuracy: 0.9395\n",
            "Epoch 18/1000\n",
            "39/39 [==============================] - 12s 306ms/step - loss: 0.0281 - accuracy: 0.9895 - val_loss: 0.0475 - val_accuracy: 0.9826\n",
            "Epoch 19/1000\n",
            "39/39 [==============================] - 9s 228ms/step - loss: 0.0317 - accuracy: 0.9887 - val_loss: 11.6132 - val_accuracy: 0.6192\n",
            "Epoch 20/1000\n",
            "39/39 [==============================] - 9s 229ms/step - loss: 0.0404 - accuracy: 0.9854 - val_loss: 0.3038 - val_accuracy: 0.9322\n",
            "Epoch 21/1000\n",
            "39/39 [==============================] - 9s 229ms/step - loss: 0.0295 - accuracy: 0.9889 - val_loss: 0.1293 - val_accuracy: 0.9651\n",
            "Epoch 22/1000\n",
            "39/39 [==============================] - 9s 228ms/step - loss: 0.0248 - accuracy: 0.9908 - val_loss: 0.0938 - val_accuracy: 0.9679\n",
            "Epoch 23/1000\n",
            "39/39 [==============================] - 9s 228ms/step - loss: 0.0243 - accuracy: 0.9910 - val_loss: 0.0826 - val_accuracy: 0.9702\n",
            "Epoch 24/1000\n",
            "39/39 [==============================] - 9s 229ms/step - loss: 0.0233 - accuracy: 0.9913 - val_loss: 0.0557 - val_accuracy: 0.9801\n",
            "Epoch 25/1000\n",
            "39/39 [==============================] - 9s 228ms/step - loss: 0.0226 - accuracy: 0.9914 - val_loss: 0.0966 - val_accuracy: 0.9725\n",
            "Epoch 26/1000\n",
            "39/39 [==============================] - 9s 229ms/step - loss: 0.0222 - accuracy: 0.9914 - val_loss: 0.0872 - val_accuracy: 0.9742\n",
            "Epoch 27/1000\n",
            "39/39 [==============================] - 12s 315ms/step - loss: 0.0221 - accuracy: 0.9914 - val_loss: 0.0287 - val_accuracy: 0.9908\n",
            "Epoch 28/1000\n",
            "39/39 [==============================] - 9s 229ms/step - loss: 0.0214 - accuracy: 0.9918 - val_loss: 0.1616 - val_accuracy: 0.9240\n",
            "Epoch 29/1000\n",
            "39/39 [==============================] - 9s 230ms/step - loss: 0.0207 - accuracy: 0.9919 - val_loss: 0.0376 - val_accuracy: 0.9844\n",
            "Epoch 30/1000\n",
            "39/39 [==============================] - 9s 229ms/step - loss: 0.0203 - accuracy: 0.9920 - val_loss: 0.0334 - val_accuracy: 0.9909\n",
            "Epoch 31/1000\n",
            "39/39 [==============================] - 13s 324ms/step - loss: 0.0205 - accuracy: 0.9920 - val_loss: 0.0179 - val_accuracy: 0.9934\n",
            "Epoch 32/1000\n",
            "39/39 [==============================] - 9s 229ms/step - loss: 0.0200 - accuracy: 0.9921 - val_loss: 0.4668 - val_accuracy: 0.8101\n",
            "Epoch 33/1000\n",
            "39/39 [==============================] - 12s 298ms/step - loss: 0.0191 - accuracy: 0.9925 - val_loss: 0.0169 - val_accuracy: 0.9937\n",
            "Epoch 34/1000\n",
            "39/39 [==============================] - 9s 229ms/step - loss: 0.0189 - accuracy: 0.9925 - val_loss: 0.1628 - val_accuracy: 0.9144\n",
            "Epoch 35/1000\n",
            "39/39 [==============================] - 9s 230ms/step - loss: 0.0189 - accuracy: 0.9924 - val_loss: 0.0269 - val_accuracy: 0.9888\n",
            "Epoch 36/1000\n",
            "39/39 [==============================] - 14s 361ms/step - loss: 0.0181 - accuracy: 0.9929 - val_loss: 0.0163 - val_accuracy: 0.9945\n",
            "Epoch 37/1000\n",
            "39/39 [==============================] - 9s 229ms/step - loss: 0.0173 - accuracy: 0.9932 - val_loss: 0.0237 - val_accuracy: 0.9909\n",
            "Epoch 38/1000\n",
            "39/39 [==============================] - 11s 293ms/step - loss: 0.0167 - accuracy: 0.9934 - val_loss: 0.0150 - val_accuracy: 0.9947\n",
            "Epoch 39/1000\n",
            "39/39 [==============================] - 10s 258ms/step - loss: 0.0162 - accuracy: 0.9936 - val_loss: 0.0146 - val_accuracy: 0.9946\n",
            "Epoch 40/1000\n",
            "39/39 [==============================] - 9s 228ms/step - loss: 0.0159 - accuracy: 0.9937 - val_loss: 0.0150 - val_accuracy: 0.9945\n",
            "Epoch 41/1000\n",
            "39/39 [==============================] - 9s 229ms/step - loss: 0.0155 - accuracy: 0.9939 - val_loss: 0.0670 - val_accuracy: 0.9777\n",
            "Epoch 42/1000\n",
            "39/39 [==============================] - 9s 228ms/step - loss: 0.0165 - accuracy: 0.9934 - val_loss: 0.0151 - val_accuracy: 0.9944\n",
            "Epoch 43/1000\n",
            "39/39 [==============================] - 9s 229ms/step - loss: 0.0157 - accuracy: 0.9938 - val_loss: 0.0251 - val_accuracy: 0.9903\n",
            "Epoch 44/1000\n",
            "39/39 [==============================] - 9s 230ms/step - loss: 0.0151 - accuracy: 0.9941 - val_loss: 0.0162 - val_accuracy: 0.9937\n",
            "Epoch 45/1000\n",
            "39/39 [==============================] - 9s 229ms/step - loss: 0.0148 - accuracy: 0.9942 - val_loss: 0.0154 - val_accuracy: 0.9939\n",
            "Epoch 46/1000\n",
            "39/39 [==============================] - 9s 228ms/step - loss: 0.0145 - accuracy: 0.9944 - val_loss: 0.0200 - val_accuracy: 0.9921\n",
            "Epoch 47/1000\n",
            "39/39 [==============================] - 9s 229ms/step - loss: 0.0145 - accuracy: 0.9943 - val_loss: 0.0162 - val_accuracy: 0.9939\n",
            "Epoch 48/1000\n",
            "39/39 [==============================] - 9s 228ms/step - loss: 0.0145 - accuracy: 0.9943 - val_loss: 0.0365 - val_accuracy: 0.9906\n",
            "Epoch 49/1000\n",
            "39/39 [==============================] - 13s 325ms/step - loss: 0.0136 - accuracy: 0.9949 - val_loss: 0.0132 - val_accuracy: 0.9947\n",
            "Epoch 50/1000\n",
            "39/39 [==============================] - 9s 228ms/step - loss: 0.0134 - accuracy: 0.9948 - val_loss: 0.0135 - val_accuracy: 0.9950\n",
            "Epoch 51/1000\n",
            "39/39 [==============================] - 9s 229ms/step - loss: 0.0137 - accuracy: 0.9947 - val_loss: 0.0133 - val_accuracy: 0.9954\n",
            "Epoch 52/1000\n",
            "39/39 [==============================] - 9s 229ms/step - loss: 0.0132 - accuracy: 0.9950 - val_loss: 0.1950 - val_accuracy: 0.9659\n",
            "Epoch 53/1000\n",
            "39/39 [==============================] - 9s 228ms/step - loss: 0.0143 - accuracy: 0.9944 - val_loss: 0.2042 - val_accuracy: 0.9684\n",
            "Epoch 54/1000\n",
            "39/39 [==============================] - 9s 229ms/step - loss: 0.0128 - accuracy: 0.9950 - val_loss: 0.0554 - val_accuracy: 0.9883\n",
            "Epoch 55/1000\n",
            "39/39 [==============================] - 9s 229ms/step - loss: 0.0119 - accuracy: 0.9956 - val_loss: 0.1167 - val_accuracy: 0.9698\n",
            "Epoch 56/1000\n",
            "39/39 [==============================] - 9s 229ms/step - loss: 0.0123 - accuracy: 0.9952 - val_loss: 0.0154 - val_accuracy: 0.9951\n",
            "Epoch 57/1000\n",
            "39/39 [==============================] - 12s 311ms/step - loss: 0.0111 - accuracy: 0.9959 - val_loss: 0.0126 - val_accuracy: 0.9958\n",
            "Epoch 58/1000\n",
            "39/39 [==============================] - 9s 229ms/step - loss: 0.0113 - accuracy: 0.9957 - val_loss: 0.0130 - val_accuracy: 0.9955\n",
            "Epoch 59/1000\n",
            "39/39 [==============================] - 9s 229ms/step - loss: 0.0114 - accuracy: 0.9956 - val_loss: 0.0379 - val_accuracy: 0.9917\n",
            "Epoch 60/1000\n",
            "39/39 [==============================] - 22s 573ms/step - loss: 0.0112 - accuracy: 0.9957 - val_loss: 0.0114 - val_accuracy: 0.9963\n",
            "Epoch 61/1000\n",
            "39/39 [==============================] - 9s 229ms/step - loss: 0.0113 - accuracy: 0.9958 - val_loss: 0.0943 - val_accuracy: 0.9747\n",
            "Epoch 62/1000\n",
            "39/39 [==============================] - 11s 295ms/step - loss: 0.0117 - accuracy: 0.9955 - val_loss: 0.0107 - val_accuracy: 0.9960\n",
            "Epoch 63/1000\n",
            "39/39 [==============================] - 9s 229ms/step - loss: 0.0101 - accuracy: 0.9963 - val_loss: 0.0167 - val_accuracy: 0.9946\n",
            "Epoch 64/1000\n",
            "39/39 [==============================] - 9s 229ms/step - loss: 0.0108 - accuracy: 0.9958 - val_loss: 0.0133 - val_accuracy: 0.9953\n",
            "Epoch 65/1000\n",
            "39/39 [==============================] - 9s 229ms/step - loss: 0.0093 - accuracy: 0.9966 - val_loss: 0.0385 - val_accuracy: 0.9886\n",
            "Epoch 66/1000\n",
            "39/39 [==============================] - 9s 228ms/step - loss: 0.0113 - accuracy: 0.9955 - val_loss: 0.0652 - val_accuracy: 0.9892\n",
            "Epoch 67/1000\n",
            "39/39 [==============================] - 9s 228ms/step - loss: 0.0101 - accuracy: 0.9962 - val_loss: 0.0123 - val_accuracy: 0.9952\n",
            "Epoch 68/1000\n",
            "39/39 [==============================] - 12s 312ms/step - loss: 0.0095 - accuracy: 0.9964 - val_loss: 0.0088 - val_accuracy: 0.9970\n",
            "Epoch 69/1000\n",
            "39/39 [==============================] - 9s 229ms/step - loss: 0.0098 - accuracy: 0.9962 - val_loss: 0.0144 - val_accuracy: 0.9948\n",
            "Epoch 70/1000\n",
            "39/39 [==============================] - 9s 229ms/step - loss: 0.0090 - accuracy: 0.9966 - val_loss: 0.0495 - val_accuracy: 0.9872\n",
            "Epoch 71/1000\n",
            "39/39 [==============================] - 9s 229ms/step - loss: 0.0095 - accuracy: 0.9963 - val_loss: 0.0100 - val_accuracy: 0.9963\n",
            "Epoch 72/1000\n",
            "39/39 [==============================] - 9s 228ms/step - loss: 0.0096 - accuracy: 0.9963 - val_loss: 0.3428 - val_accuracy: 0.9240\n",
            "Epoch 73/1000\n",
            "39/39 [==============================] - 9s 229ms/step - loss: 0.0101 - accuracy: 0.9961 - val_loss: 0.0247 - val_accuracy: 0.9935\n",
            "Epoch 74/1000\n",
            "39/39 [==============================] - 9s 228ms/step - loss: 0.0103 - accuracy: 0.9959 - val_loss: 0.0623 - val_accuracy: 0.9900\n",
            "Epoch 75/1000\n",
            "39/39 [==============================] - 9s 229ms/step - loss: 0.0087 - accuracy: 0.9967 - val_loss: 0.0104 - val_accuracy: 0.9964\n",
            "Epoch 76/1000\n",
            "39/39 [==============================] - 9s 229ms/step - loss: 0.0090 - accuracy: 0.9966 - val_loss: 0.0110 - val_accuracy: 0.9962\n",
            "Epoch 77/1000\n",
            "39/39 [==============================] - 9s 229ms/step - loss: 0.0104 - accuracy: 0.9959 - val_loss: 0.0200 - val_accuracy: 0.9944\n",
            "Epoch 78/1000\n",
            "39/39 [==============================] - 9s 229ms/step - loss: 0.0095 - accuracy: 0.9963 - val_loss: 0.0107 - val_accuracy: 0.9957\n"
          ]
        }
      ]
    },
    {
      "cell_type": "code",
      "source": [
        "# ----- To completely free the GPU RAM -----\n",
        "from numba import cuda\n",
        "free_gpu_ram_opt=0\n",
        "\n",
        "if free_gpu_ram_opt:\n",
        "    device = cuda.get_current_device()\n",
        "    device.reset()"
      ],
      "metadata": {
        "id": "U9Yx2V3JCfdA"
      },
      "execution_count": 40,
      "outputs": []
    },
    {
      "cell_type": "code",
      "source": [
        "# Check training progress\n",
        "#plot the training and validation accuracy and loss at each epoch\n",
        "history = history1\n",
        "loss = history.history['loss']\n",
        "val_loss = history.history['val_loss']\n",
        "epochs = range(1, len(loss) + 1)\n",
        "plt.plot(epochs, loss, 'y', label='Training loss')\n",
        "plt.plot(epochs, val_loss, 'r', label='Validation loss')\n",
        "plt.title('Training and validation loss')\n",
        "plt.xlabel('Epochs')\n",
        "plt.ylabel('Loss')\n",
        "plt.legend()\n",
        "plt.show()\n"
      ],
      "metadata": {
        "colab": {
          "base_uri": "https://localhost:8080/",
          "height": 295
        },
        "id": "ThkBktTikbdb",
        "outputId": "7c7bf6b3-cd99-4aaa-d803-de4e6a55ba22"
      },
      "execution_count": 41,
      "outputs": [
        {
          "output_type": "display_data",
          "data": {
            "text/plain": [
              "<Figure size 432x288 with 1 Axes>"
            ],
            "image/png": "[encoded data removed]"
          },
          "metadata": {
            "needs_background": "light"
          }
        }
      ]
    },
    {
      "cell_type": "code",
      "source": [],
      "metadata": {
        "id": "rIaRTYdlAgvi"
      },
      "execution_count": null,
      "outputs": []
    },
    {
      "cell_type": "markdown",
      "source": [
        "# Load the trained UNet and do the prediction"
      ],
      "metadata": {
        "id": "QNIMc0bBAf55"
      }
    },
    {
      "cell_type": "code",
      "source": [
        "# Load the trained model and do the prediction\n",
        "from keras.models import load_model\n",
        "from keras.metrics import MeanIoU\n",
        "\n",
        "load_mdl_opt = 0\n",
        "if load_mdl_opt:\n",
        "    model = load_model(out_model_name)  \n",
        "\n",
        "\n",
        "#Perform prediction and use build-in keras function to calculate IoU\n",
        "if n_classes==1:\n",
        "    n_classes_pred = 2 \n",
        "    y_pred_label = (model.predict(x_test))>0.5\n",
        "else:\n",
        "    n_classes_pred = n_classes\n",
        "    y_pred_label = np.argmax(model.predict(x_test), axis=-1)\n",
        "    \n",
        "IOU_keras = MeanIoU(num_classes=n_classes_pred)  \n",
        "IOU_keras.update_state(y_pred_label, y_test)\n",
        "print(\"Mean IoU =\", IOU_keras.result().numpy())\n",
        "\n"
      ],
      "metadata": {
        "colab": {
          "base_uri": "https://localhost:8080/"
        },
        "id": "sWCUuRPX19Qo",
        "outputId": "de77ebb5-5511-4133-e553-b6ce5b6dd983"
      },
      "execution_count": 42,
      "outputs": [
        {
          "output_type": "stream",
          "name": "stdout",
          "text": [
            "4/4 [==============================] - 1s 73ms/step\n",
            "Mean IoU = 0.9912276\n"
          ]
        }
      ]
    },
    {
      "cell_type": "code",
      "source": [
        "# Check prediction\n",
        "#Predict on a few images\n",
        "\n",
        "import random\n",
        "test_img_number = random.randint(0, len(x_test))\n",
        "test_img = x_test[test_img_number]\n",
        "ground_truth=y_test[test_img_number]\n",
        "test_img_input=np.expand_dims(test_img, 0)\n",
        "prediction = (model.predict(test_img_input)[0,:,:,0]>0.5).astype(np.uint8)\n",
        "\n",
        "plt.figure(figsize=(16, 8))\n",
        "plt.subplot(231)\n",
        "plt.title('Testing Image')\n",
        "plt.imshow(test_img[:,:,0], interpolation='none', cmap='gray', vmin=0, vmax=1)\n",
        "\n",
        "plt.subplot(232)\n",
        "plt.title('Testing Label')\n",
        "plt.imshow(ground_truth[:,:,0], interpolation='none')\n",
        "\n",
        "plt.subplot(233)\n",
        "plt.title('Prediction on test image')\n",
        "plt.imshow(prediction, interpolation='none')\n",
        "plt.show()\n"
      ],
      "metadata": {
        "colab": {
          "base_uri": "https://localhost:8080/",
          "height": 299
        },
        "id": "nQU0b9L919TK",
        "outputId": "ddbb66e8-b6d6-41e9-d48f-1bc70493ac94"
      },
      "execution_count": 53,
      "outputs": [
        {
          "output_type": "stream",
          "name": "stdout",
          "text": [
            "1/1 [==============================] - 0s 27ms/step\n"
          ]
        },
        {
          "output_type": "display_data",
          "data": {
            "text/plain": [
              "<Figure size 1152x576 with 3 Axes>"
            ],
            "image/png": "[encoded data removed]"
          },
          "metadata": {
            "needs_background": "light"
          }
        }
      ]
    },
    {
      "cell_type": "code",
      "source": [],
      "metadata": {
        "id": "HsSN1JI1BZPa"
      },
      "execution_count": null,
      "outputs": []
    },
    {
      "cell_type": "markdown",
      "source": [
        "# Process independent new Sentinel-1 images as inputs to generate flood extents"
      ],
      "metadata": {
        "id": "tAVUwQpoBZe9"
      }
    },
    {
      "cell_type": "code",
      "source": [
        "# ----- Get the GEE ImageCollection -----\n",
        "new_s1_query_col = (ee.ImageCollection(\"COPERNICUS/S1_GRD\")\n",
        "           .filter(ee.Filter.listContains('transmitterReceiverPolarisation','VV'))\n",
        "           .filter(ee.Filter.listContains('transmitterReceiverPolarisation','VH'))   \n",
        "           .filter(ee.Filter.eq('platform_number','A')) # or 'B'\n",
        "           .filter(ee.Filter.eq('instrumentMode', 'IW'))\n",
        "           .filter(ee.Filter.eq('relativeOrbitNumber_start',91)) # Can check Alaska Satellite Facility Data Vertex to get the relative orbit number (Path)\n",
        "           .filter(ee.Filter.eq('relativeOrbitNumber_stop',91))\n",
        "           .filter(ee.Filter.eq('orbitProperties_pass', 'DESCENDING'))\n",
        "           .filter(ee.Filter.date('2022-01-01','2022-12-31'))\n",
        "           .filter(ee.Filter.bounds(aoi_bbox))\n",
        ")\n",
        "# ----- Remove problematic image -----\n",
        "new_s1_query_col = new_s1_query_col.filter(ee.Filter.date('2022-12-15','2022-12-17').Not())\n",
        "\n",
        "# ----- Use HYDRAFloods for satellite image pre-processing (mosaicking, slope correction, speckle filtering) -----\n",
        "mosaick_opt = 1 # This part depends on if your AOI requires mosaicking frames of images\n",
        "new_s1_query_hf = hf.datasets.Dataset.from_imgcollection(new_s1_query_col) # Convert GEE ImageCollection to HYDRAFloods dataset\n",
        "if mosaick_opt:\n",
        "    new_s1_query_hf = new_s1_query_hf.aggregate_time(clip_to_area=True) # Mosaic images in the collection by date\n",
        "new_s1_query_hf_flat = new_s1_query_hf.apply_func(hf.slope_correction, elevation = dem_data) # Slope correction      \n",
        "new_s1_query_hf_flat_filt = new_s1_query_hf_flat.apply_func(hf.filtering.gamma_map) # Speckle filtering\n",
        "new_s1_query_hf_flat_filt = ee.ImageCollection(new_s1_query_hf_flat_filt.collection) # Convert HYDRAFloods ImageCollection to GEE ImageCollection\n",
        "new_s1_aoi = new_s1_query_hf_flat_filt.map(clip_aoi) # Clip the GEE ImageCollection to the AOI\n"
      ],
      "metadata": {
        "id": "wy7XoT0KByU8"
      },
      "execution_count": 78,
      "outputs": []
    },
    {
      "cell_type": "code",
      "source": [
        "# ----- (0: Do not export; 1 export) the images\n",
        "export_s1_opt = 0\n",
        "\n",
        "#res=100 # define spatial resolution of the exported GeoTiff\n",
        "img_prefix = 'TSL'\n",
        "img_suffix = 'VV'\n",
        "s1_export_band = 'VV' #'VV' or 'VH'\n",
        "export_crs = 'EPSG:4326' #Coordinate system of the exported GeoTiff\n",
        "\n",
        "if export_s1_opt:\n",
        "    #hf.geeutils.batch_export(new_s1_aoi.select(s1_export_band), collection_asset = 'UNet_', region=aoi_bbox, prefix=img_prefix, suffix=img_suffix, scale=res, crs=export_crs, pyramiding=None, export_type='toDrive', folder='UNet_examp_S1_'+str(res).zfill(3)+'m', metadata=None, verbose=False) \n",
        "    batch_export(new_s1_aoi.select(s1_export_band), collection_asset = 'UNet_', region=aoi_bbox, prefix=img_prefix, suffix=img_suffix, scale=res, crs=export_crs, pyramiding=None, export_type='toDrive', folder='UNet_examp_S1_'+str(res).zfill(3)+'m', metadata=None, verbose=False) \n",
        "\n",
        "else:\n",
        "    print('Users requested not to export Sentinel-1 VV intensity')\n"
      ],
      "metadata": {
        "id": "FbWFOXn1ByX9"
      },
      "execution_count": 83,
      "outputs": []
    },
    {
      "cell_type": "code",
      "source": [
        "new_s1_water.shape"
      ],
      "metadata": {
        "colab": {
          "base_uri": "https://localhost:8080/"
        },
        "id": "d7YL54-EBya5",
        "outputId": "1592ea82-aa85-4fd1-8118-084ed924de19"
      },
      "execution_count": 140,
      "outputs": [
        {
          "output_type": "execute_result",
          "data": {
            "text/plain": [
              "(2048, 2816)"
            ]
          },
          "metadata": {},
          "execution_count": 140
        }
      ]
    },
    {
      "cell_type": "markdown",
      "source": [
        "**Prepare independent input dataset to be put into the trained UNet**"
      ],
      "metadata": {
        "id": "SVc9USH1R76o"
      }
    },
    {
      "cell_type": "code",
      "source": [
        "# Read pre-processed Sentinel-1 images\n",
        "new_s1_data_path = indata_path+'S1/'+str(res).zfill(3)+'m/A_independent/*.tif'\n",
        "\n",
        "# Normalize the data by minimum and maximum. You only need the minimum and maximum of all images of same feature.\n",
        "new_s1_flist = glob.glob(new_s1_data_path+'*.tif')\n",
        "new_s1_flist = glob.glob(new_s1_data_path)\n",
        "\n",
        "new_dcube_features_temp = []\n",
        "new_dcube_labels_temp = []\n",
        "ct_img = 0\n",
        "date_str = []\n",
        "for s1_fname in new_s1_flist:\n",
        "    \n",
        "    ct_img = ct_img+1\n",
        "    new_in_s1 = xr.open_rasterio(s1_fname).sortby('y',ascending=False).sortby('x',ascending=True).squeeze().drop('band')\n",
        "    if s1_fname == new_s1_flist[0]:\n",
        "        lat = new_in_s1.y\n",
        "        lon = new_in_s1.x\n",
        "    new_in_s1 = new_in_s1.values\n",
        "    date_str.append(s1_fname[-15:-7])\n",
        "    \n",
        "    # As an example, I simply use a general threshold value to get Sentinel-1 flood extents which will be used as training label data (1: water, 0: non-water).\n",
        "    # Practically, this threshold has to be refined.\n",
        "    new_s1_water = np.where(new_in_s1<fld_thrd, 1, 0)\n",
        "    new_s1_water = np.where(np.isnan(new_in_s1), np.nan, new_s1_water)\n",
        "    \n",
        "    # Resize the image to be the multiple of patch size\n",
        "    new_in_s1 = resize_data(new_in_s1, patch_size)\n",
        "    # in_slp = resize_data(in_slp, patch_size)\n",
        "    # in_lulc = resize_data(in_lulc, patch_size)\n",
        "    # in_dem = resize_data(in_dem, patch_size)\n",
        "    # in_hand = resize_data(in_hand, patch_size)\n",
        "    # in_jrc_permw = resize_data(in_jrc_permw, patch_size)\n",
        "    new_s1_water = resize_data(new_s1_water, patch_size)\n",
        "    # Fill the gappy water extents caused by lake surface roughness on SAR images with JRC perm. water\n",
        "    new_s1_water[in_jrc_permw==1] = 1    \n",
        "        \n",
        "    if s1_fname == new_s1_flist[0]:\n",
        "        new_in_s1_stack = np.expand_dims(new_in_s1, axis=0)\n",
        "        new_s1_water_stack = np.expand_dims(new_s1_water, axis=0)\n",
        "    else:\n",
        "        new_in_s1_stack = np.concatenate((new_in_s1_stack, np.expand_dims(new_in_s1, axis=0)), axis=0)\n",
        "        new_s1_water_stack = np.concatenate((new_s1_water_stack, np.expand_dims(new_s1_water, axis=0)), axis=0)\n",
        "\n",
        "\n",
        "    # Normalize S1 images with the pre-calculated min and max values of all training S1 images    \n",
        "    new_in_s1 = (new_in_s1 - all_s1_min)/(all_s1_max - all_s1_min)\n",
        "\n",
        "    # overlay several channels as features\n",
        "    if multi_channel_opt:\n",
        "        in_features = np.concatenate([np.expand_dims(new_in_s1, axis=-1), np.expand_dims(in_slp, axis=-1)], axis=-1) # Add DEM_Slope\n",
        "        in_features = np.concatenate([in_features, np.expand_dims(in_hand, axis=-1)], axis=-1)                   # Add HAND\n",
        "        in_features[np.any(np.isnan(in_features), axis=-1),:]=np.nan\n",
        "    else:\n",
        "        in_features = new_in_s1\n",
        "\n",
        "    # Generate input patches\n",
        "    patch_features = patchify(in_features, (patch_size, patch_size, in_features.shape[-1]), step=patch_size) # 'step' is the same as 'stride' in convolution\n",
        "    #patch_labels = patchify(new_s1_water, (patch_size, patch_size), step=patch_size)\n",
        "    \n",
        "    del in_features, new_s1_water\n",
        "    gc.collect()\n",
        "\n",
        "    # Pile up patches\n",
        "    for i in np.arange(patch_features.shape[0]):\n",
        "        for j in np.arange(patch_features.shape[1]):\n",
        "            if multi_channel_opt:\n",
        "                single_patch_features = patch_features[i,j,:,:][0]\n",
        "            else:\n",
        "                single_patch_features = patch_features[i,j,:,:]\n",
        "            #single_patch_labels = patch_labels[i,j,:,:]\n",
        "          \n",
        "            new_dcube_features_temp.append(single_patch_features)\n",
        "            #new_dcube_labels_temp.append(single_patch_labels)\n",
        "print(ct_img)\n",
        "gc.collect()\n",
        "\n",
        "# Reshape the piled-up data to be a data cube (patch, X, Y)\n",
        "new_dcube_features_temp = np.array(new_dcube_features_temp)\n",
        "#new_dcube_labels_temp = np.array(new_dcube_labels_temp)\n",
        "\n",
        "\n",
        "# Check if piled data cube has correct dimension\n",
        "if ((lat.shape[0]//patch_size)*(lon.shape[0]//patch_size)*len(new_s1_flist) == new_dcube_features_temp.shape[0]):\n",
        "    print('Data cube dimension is correct. You can proceed')\n",
        "    del patch_features, single_patch_features #, patch_labels, single_patch_labels\n",
        "    gc.collect()     \n",
        "    gc.collect()\n",
        "else:\n",
        "    print('Data cube dimension is wrong, please carefully check your data first')\n"
      ],
      "metadata": {
        "colab": {
          "base_uri": "https://localhost:8080/"
        },
        "id": "FRcBVi2NBydm",
        "outputId": "221cf3df-6097-4a2f-dcee-6fd5c4464317"
      },
      "execution_count": 185,
      "outputs": [
        {
          "output_type": "stream",
          "name": "stdout",
          "text": [
            "29\n",
            "Data cube dimension is correct. You can proceed\n"
          ]
        }
      ]
    },
    {
      "cell_type": "code",
      "source": [
        "if multi_channel_opt:\n",
        "    new_features = new_dcube_features_temp\n",
        "else:\n",
        "    new_features = np.expand_dims(new_dcube_features_temp, axis=3)\n",
        "del new_dcube_features_temp\n",
        "new_features.shape\n"
      ],
      "metadata": {
        "colab": {
          "base_uri": "https://localhost:8080/"
        },
        "id": "Vh280IQQSStH",
        "outputId": "3afba213-49c5-47c7-f0f4-ed4232456c68"
      },
      "execution_count": 144,
      "outputs": [
        {
          "output_type": "execute_result",
          "data": {
            "text/plain": [
              "(2552, 256, 256, 3)"
            ]
          },
          "metadata": {},
          "execution_count": 144
        }
      ]
    },
    {
      "cell_type": "code",
      "source": [
        "if n_classes==1:\n",
        "    new_patch_pred = ((model.predict(new_features))>0.5)[:,:,:,0]\n",
        "else:\n",
        "    new_patch_pred = np.argmax(model.predict(new_features), axis=-1)\n",
        "new_pred = np.empty((len(new_s1_flist), new_in_s1.shape[0], new_in_s1.shape[1]))\n",
        "\n",
        "ct_patch=0\n",
        "for ct_time in np.arange(len(new_s1_flist)):\n",
        "    for ct_patch_y in np.arange( new_in_s1.shape[0] / patch_size):\n",
        "        for ct_patch_x in np.arange( new_in_s1.shape[1] / patch_size):      \n",
        "            new_pred[ct_time, int(ct_patch_y*patch_size):int((ct_patch_y+1)*patch_size), int(ct_patch_x*patch_size):int((ct_patch_x+1)*patch_size)] = new_patch_pred[ct_patch][:]\n",
        "            ct_patch = ct_patch+1\n",
        "\n",
        "# Remove out-of-frame pixels\n",
        "new_pred = np.where(np.isnan(new_in_s1), np.nan, new_pred)\n"
      ],
      "metadata": {
        "id": "GQFWfmxv19Yq",
        "colab": {
          "base_uri": "https://localhost:8080/"
        },
        "outputId": "52fe9807-2d0b-4329-c42a-2447a52a70f0"
      },
      "execution_count": 129,
      "outputs": [
        {
          "output_type": "stream",
          "name": "stdout",
          "text": [
            "80/80 [==============================] - 5s 66ms/step\n"
          ]
        }
      ]
    },
    {
      "cell_type": "code",
      "source": [
        "from scipy.sparse import rand\n",
        "from matplotlib.colors import ListedColormap\n",
        "from mpl_toolkits.axes_grid1 import make_axes_locatable\n",
        "\n",
        "\n",
        "indx_img = random.randint(0, len(new_s1_flist)-1)\n",
        "\n",
        "water_cmap = ListedColormap(['silver','dodgerblue'])\n",
        "fig, axs = plt.subplots(1,3, layout='constrained', figsize=(15, 15))\n",
        "im = axs[0].imshow(new_in_s1_stack[indx_img], interpolation='none', cmap='gray', vmin=-25, vmax=0)\n",
        "axs[0].set_title(date_str[indx_img], fontdict=fontdict)\n",
        "divider = make_axes_locatable(axs[0])\n",
        "cax = divider.append_axes(\"right\", size=\"5%\", pad=0.05)\n",
        "plt.colorbar(im, ax=axs[0], cax=cax)\n",
        "\n",
        "im = axs[1].imshow(new_pred[indx_img], interpolation='none', cmap=water_cmap, vmin=-0.5, vmax=1.5)\n",
        "axs[1].set_title(date_str[indx_img], fontdict=fontdict)\n",
        "divider = make_axes_locatable(axs[1])\n",
        "cax = divider.append_axes(\"right\", size=\"5%\", pad=0.05)\n",
        "cbar = plt.colorbar(im, ax=axs[1], cax=cax)\n",
        "cbar.set_ticks([0,1])\n",
        "cbar.set_ticklabels(['Non\\nwater','Water'], rotation='vertical')\n",
        "\n",
        "im = axs[2].imshow(new_s1_water_stack[indx_img], interpolation='none', cmap=water_cmap, vmin=-0.5, vmax=1.5)\n",
        "axs[2].set_title(date_str[indx_img], fontdict=fontdict)\n",
        "divider = make_axes_locatable(axs[2])\n",
        "cax = divider.append_axes(\"right\", size=\"5%\", pad=0.05)\n",
        "cbar = plt.colorbar(im, ax=axs[2], cax=cax)\n",
        "cbar.set_ticks([0,1])\n",
        "cbar.set_ticklabels(['Non\\nwater','Water'], rotation='vertical')\n",
        "\n",
        "box = axs[0].get_position()\n",
        "box.x0 = box.x0 + 0.05\n",
        "#box.x1 = box.x1 + 0.05\n",
        "axs[0].set_position(box)\n",
        "\n",
        "box1 = axs[1].get_position()\n",
        "box1.x0 = box1.x0 + 0.05\n",
        "#box1.x1 = box1.x1 + 0.05\n",
        "axs[1].set_position(box1)\n",
        "\n",
        "box2 = axs[2].get_position()\n",
        "box2.x0 = box2.x0 + 0.05\n",
        "#box2.x1 = box2.x1 + 0.05\n",
        "axs[2].set_position(box2)\n",
        "\n",
        "plt.show()"
      ],
      "metadata": {
        "id": "z1jjcrhA19bS",
        "colab": {
          "base_uri": "https://localhost:8080/",
          "height": 187
        },
        "outputId": "c35c7dc3-e541-4bdb-ad98-5f2e1034c07e"
      },
      "execution_count": 188,
      "outputs": [
        {
          "output_type": "display_data",
          "data": {
            "text/plain": [
              "<Figure size 1080x1080 with 6 Axes>"
            ],
            "image/png": "[encoded data removed]"
          },
          "metadata": {
            "needs_background": "light"
          }
        }
      ]
    },
    {
      "cell_type": "code",
      "source": [],
      "metadata": {
        "id": "VOHWrbZNbujJ"
      },
      "execution_count": 163,
      "outputs": []
    }
  ]
}